{
 "cells": [
  {
   "cell_type": "markdown",
   "metadata": {
    "colab_type": "text",
    "id": "WlMWPniLihK_"
   },
   "source": [
    "# Assignment 1 - Python Basics Practice\n",
    "\n",
    "*This assignment is a part of the course [\"Data Analysis with Python: Zero to Pandas\"](https://jovian.ml/learn/data-analysis-with-python-zero-to-pandas)*\n",
    "\n",
    "In this assignment, you'll get to practice some of the concepts and skills covered in the following notebooks:\n",
    "\n",
    "1. [First Steps with Python and Jupyter](https://jovian.ml/aakashns/first-steps-with-python)\n",
    "2. [A Quick Tour of Variables and Data Types](https://jovian.ml/aakashns/python-variables-and-data-types)\n",
    "3. [Branching using Conditional Statements and Loops](https://jovian.ml/aakashns/python-branching-and-loops)\n",
    "\n",
    "As you go through this notebook, you will find a **???** in certain places. To complete this assignment, you must replace all the **???** with appropriate values, expressions or statements to ensure that the notebook runs properly end-to-end. \n",
    "\n",
    "Some things to keep in mind:\n",
    "\n",
    "* Make sure to run all the code cells, otherwise you may get errors like `NameError` for undefined variables.\n",
    "* Do not change variable names, delete cells or disturb other existing code. It may cause problems during evaluation.\n",
    "* In some cases, you may need to add some code cells or new statements before or after the line of code containing the **???**. \n",
    "* Since you'll be using a temporary online service for code execution, save your work by running `jovian.commit` at regular intervals.\n",
    "* Questions marked **(Optional)** will not be considered for evaluation, and can be skipped. They are for your learning.\n",
    "\n",
    "You can make submissions on this page: https://jovian.ml/learn/data-analysis-with-python-zero-to-pandas/assignment/assignment-1-python-basics-practice\n",
    "\n",
    "If you are stuck, you can ask for help on the community forum: https://jovian.ml/forum/t/assignment-1-python-practice/7761 . You can get help with errors or ask for hints, but **please don't ask for or share the full working answer code** on the forum.\n",
    "\n",
    "\n",
    "## How to run the code and save your work\n",
    "\n",
    "The recommended way to run this notebook is to click the \"Run\" button at the top of this page, and select \"Run on Binder\". This will run the notebook on [mybinder.org](https://mybinder.org), a free online service for running Jupyter notebooks. \n",
    "\n",
    "Before staring the assignment, let's save a snapshot of the assignment to your Jovian.ml profile, so that you can access it later, and continue your work."
   ]
  },
  {
   "cell_type": "code",
   "execution_count": 2,
   "metadata": {
    "colab": {},
    "colab_type": "code",
    "executionInfo": {
     "elapsed": 3248,
     "status": "ok",
     "timestamp": 1598687376902,
     "user": {
      "displayName": "Ankush Kulashri",
      "photoUrl": "https://lh4.googleusercontent.com/-uDXuncaw9Q8/AAAAAAAAAAI/AAAAAAAABBQ/0i_XWV50jgY/s64/photo.jpg",
      "userId": "07363556836472681627"
     },
     "user_tz": -330
    },
    "id": "GpFgwLTaihLB"
   },
   "outputs": [],
   "source": [
    "# Install the library\n",
    "!pip install jovian --upgrade --quiet"
   ]
  },
  {
   "cell_type": "code",
   "execution_count": 3,
   "metadata": {
    "colab": {},
    "colab_type": "code",
    "executionInfo": {
     "elapsed": 894,
     "status": "ok",
     "timestamp": 1598687379104,
     "user": {
      "displayName": "Ankush Kulashri",
      "photoUrl": "https://lh4.googleusercontent.com/-uDXuncaw9Q8/AAAAAAAAAAI/AAAAAAAABBQ/0i_XWV50jgY/s64/photo.jpg",
      "userId": "07363556836472681627"
     },
     "user_tz": -330
    },
    "id": "9N-2JgmpihLM"
   },
   "outputs": [],
   "source": [
    "# Import it\n",
    "import jovian"
   ]
  },
  {
   "cell_type": "code",
   "execution_count": 4,
   "metadata": {
    "colab": {},
    "colab_type": "code",
    "executionInfo": {
     "elapsed": 1093,
     "status": "ok",
     "timestamp": 1598687381562,
     "user": {
      "displayName": "Ankush Kulashri",
      "photoUrl": "https://lh4.googleusercontent.com/-uDXuncaw9Q8/AAAAAAAAAAI/AAAAAAAABBQ/0i_XWV50jgY/s64/photo.jpg",
      "userId": "07363556836472681627"
     },
     "user_tz": -330
    },
    "id": "uQIRytuSihLS"
   },
   "outputs": [],
   "source": [
    "project_name='python-practice-assignment'"
   ]
  },
  {
   "cell_type": "code",
   "execution_count": 5,
   "metadata": {
    "colab": {
     "base_uri": "https://localhost:8080/",
     "height": 127
    },
    "colab_type": "code",
    "executionInfo": {
     "elapsed": 18901,
     "status": "ok",
     "timestamp": 1598687401743,
     "user": {
      "displayName": "Ankush Kulashri",
      "photoUrl": "https://lh4.googleusercontent.com/-uDXuncaw9Q8/AAAAAAAAAAI/AAAAAAAABBQ/0i_XWV50jgY/s64/photo.jpg",
      "userId": "07363556836472681627"
     },
     "user_tz": -330
    },
    "id": "A2STcCzRihLY",
    "outputId": "e22f827a-383c-4f95-e90d-3a8bcae9aff8"
   },
   "outputs": [
    {
     "name": "stdout",
     "output_type": "stream",
     "text": [
      "[jovian] Detected Colab notebook...\u001b[0m\n",
      "[jovian] Please enter your API key ( from https://jovian.ml/ ):\u001b[0m\n",
      "API KEY: ··········\n",
      "[jovian] Uploading colab notebook to Jovian...\u001b[0m\n",
      "[jovian] Committed successfully! https://jovian.ml/ankush-kulashri/python-practice-assignment\u001b[0m\n"
     ]
    },
    {
     "data": {
      "application/vnd.google.colaboratory.intrinsic+json": {
       "type": "string"
      },
      "text/plain": [
       "'https://jovian.ml/ankush-kulashri/python-practice-assignment'"
      ]
     },
     "execution_count": 5,
     "metadata": {
      "tags": []
     },
     "output_type": "execute_result"
    }
   ],
   "source": [
    "# Capture and upload a snapshot\n",
    "jovian.commit(project=project_name, privacy='secret', evironment=None)"
   ]
  },
  {
   "cell_type": "markdown",
   "metadata": {
    "colab_type": "text",
    "id": "Qub6dseCihLg"
   },
   "source": [
    "You'll be asked to provide an API Key, to securely upload the notebook to your Jovian.ml account. You can get the API key from your Jovian.ml profile page after logging in / signing up. See the docs for details: https://jovian.ml/docs/user-guide/upload.html . The privacy of your assignment notebook is set to *Secret*, so that you can the evlauators can access it, but it will not shown on your public profile to other users."
   ]
  },
  {
   "cell_type": "markdown",
   "metadata": {
    "colab_type": "text",
    "id": "JMRFgoR6ihLi"
   },
   "source": [
    "## Problem 1 - Variables and Data Types\n",
    "\n",
    "**Q: Assign your name to the variable `name`.**"
   ]
  },
  {
   "cell_type": "code",
   "execution_count": 6,
   "metadata": {
    "colab": {},
    "colab_type": "code",
    "executionInfo": {
     "elapsed": 881,
     "status": "ok",
     "timestamp": 1598687406452,
     "user": {
      "displayName": "Ankush Kulashri",
      "photoUrl": "https://lh4.googleusercontent.com/-uDXuncaw9Q8/AAAAAAAAAAI/AAAAAAAABBQ/0i_XWV50jgY/s64/photo.jpg",
      "userId": "07363556836472681627"
     },
     "user_tz": -330
    },
    "id": "900xaaTJihLj"
   },
   "outputs": [],
   "source": [
    "name = \"Ankush Kulashri\""
   ]
  },
  {
   "cell_type": "markdown",
   "metadata": {
    "colab_type": "text",
    "id": "RNy_Yf2HihLt"
   },
   "source": [
    "**Q: Assign your age (real or fake) to the variable `age`.**"
   ]
  },
  {
   "cell_type": "code",
   "execution_count": 7,
   "metadata": {
    "colab": {},
    "colab_type": "code",
    "executionInfo": {
     "elapsed": 596,
     "status": "ok",
     "timestamp": 1598687408108,
     "user": {
      "displayName": "Ankush Kulashri",
      "photoUrl": "https://lh4.googleusercontent.com/-uDXuncaw9Q8/AAAAAAAAAAI/AAAAAAAABBQ/0i_XWV50jgY/s64/photo.jpg",
      "userId": "07363556836472681627"
     },
     "user_tz": -330
    },
    "id": "-RHu0YDzihLu"
   },
   "outputs": [],
   "source": [
    "age = 28"
   ]
  },
  {
   "cell_type": "markdown",
   "metadata": {
    "colab_type": "text",
    "id": "sHpyqv4_ihLz"
   },
   "source": [
    "**Q: Assign a boolean value to the variable `has_android_phone`.**"
   ]
  },
  {
   "cell_type": "code",
   "execution_count": 8,
   "metadata": {
    "colab": {},
    "colab_type": "code",
    "executionInfo": {
     "elapsed": 1041,
     "status": "ok",
     "timestamp": 1598687410837,
     "user": {
      "displayName": "Ankush Kulashri",
      "photoUrl": "https://lh4.googleusercontent.com/-uDXuncaw9Q8/AAAAAAAAAAI/AAAAAAAABBQ/0i_XWV50jgY/s64/photo.jpg",
      "userId": "07363556836472681627"
     },
     "user_tz": -330
    },
    "id": "hYffLROSihLz"
   },
   "outputs": [],
   "source": [
    "has_android_phone = True"
   ]
  },
  {
   "cell_type": "markdown",
   "metadata": {
    "colab_type": "text",
    "id": "q6ha-nkjihL5"
   },
   "source": [
    "You can check the values of these variables by running the next cell."
   ]
  },
  {
   "cell_type": "code",
   "execution_count": 9,
   "metadata": {
    "colab": {
     "base_uri": "https://localhost:8080/",
     "height": 35
    },
    "colab_type": "code",
    "executionInfo": {
     "elapsed": 638,
     "status": "ok",
     "timestamp": 1598687412312,
     "user": {
      "displayName": "Ankush Kulashri",
      "photoUrl": "https://lh4.googleusercontent.com/-uDXuncaw9Q8/AAAAAAAAAAI/AAAAAAAABBQ/0i_XWV50jgY/s64/photo.jpg",
      "userId": "07363556836472681627"
     },
     "user_tz": -330
    },
    "id": "3JOPLOojihL6",
    "outputId": "54463a32-3531-4b67-aca7-8b541fb0c45a"
   },
   "outputs": [
    {
     "data": {
      "text/plain": [
       "('Ankush Kulashri', 28, True)"
      ]
     },
     "execution_count": 9,
     "metadata": {
      "tags": []
     },
     "output_type": "execute_result"
    }
   ],
   "source": [
    "name, age, has_android_phone"
   ]
  },
  {
   "cell_type": "markdown",
   "metadata": {
    "colab_type": "text",
    "id": "000oc0W9ihL_"
   },
   "source": [
    "**Q: Create a dictionary `person` with keys `\"Name\"`, `\"Age\"`, `\"HasAndroidPhone\"` and values using the variables defined above.**"
   ]
  },
  {
   "cell_type": "code",
   "execution_count": 10,
   "metadata": {
    "colab": {},
    "colab_type": "code",
    "executionInfo": {
     "elapsed": 855,
     "status": "ok",
     "timestamp": 1598687414648,
     "user": {
      "displayName": "Ankush Kulashri",
      "photoUrl": "https://lh4.googleusercontent.com/-uDXuncaw9Q8/AAAAAAAAAAI/AAAAAAAABBQ/0i_XWV50jgY/s64/photo.jpg",
      "userId": "07363556836472681627"
     },
     "user_tz": -330
    },
    "id": "ysrnb3u5ihMA"
   },
   "outputs": [],
   "source": [
    "person = {\"Name\":name, \"Age\":age, \"HasAndroidPhone\":has_android_phone}"
   ]
  },
  {
   "cell_type": "markdown",
   "metadata": {
    "colab_type": "text",
    "id": "-tAFm7OIihME"
   },
   "source": [
    "Let's use the `person` dictionary to print a nice message."
   ]
  },
  {
   "cell_type": "code",
   "execution_count": 11,
   "metadata": {
    "colab": {
     "base_uri": "https://localhost:8080/",
     "height": 35
    },
    "colab_type": "code",
    "executionInfo": {
     "elapsed": 838,
     "status": "ok",
     "timestamp": 1598687417838,
     "user": {
      "displayName": "Ankush Kulashri",
      "photoUrl": "https://lh4.googleusercontent.com/-uDXuncaw9Q8/AAAAAAAAAAI/AAAAAAAABBQ/0i_XWV50jgY/s64/photo.jpg",
      "userId": "07363556836472681627"
     },
     "user_tz": -330
    },
    "id": "LAkc3ZiaihMG",
    "outputId": "9b68a9ef-7363-4dc8-ced0-edfd1c9db7f7"
   },
   "outputs": [
    {
     "name": "stdout",
     "output_type": "stream",
     "text": [
      "Ankush Kulashri is aged 28, and owns an Android phone.\n"
     ]
    }
   ],
   "source": [
    "print(\"{} is aged {}, and owns an {}.\".format(\n",
    "    person[\"Name\"], \n",
    "    person[\"Age\"], \n",
    "    \"Android phone\" if person[\"HasAndroidPhone\"] else \"iPhone\"\n",
    "))"
   ]
  },
  {
   "cell_type": "markdown",
   "metadata": {
    "colab_type": "text",
    "id": "R6igN4KCihMM"
   },
   "source": [
    "**Q (Optional): Use a `for` loop to display the `type` of each value stored against each key in `person`.**\n",
    "\n",
    "Here's the expected output for the key `\"Name\"`: \n",
    "\n",
    "```\n",
    "The key \"Name\" has the value \"Derek\" of the type \"<class 'str'>\"\n",
    "```"
   ]
  },
  {
   "cell_type": "code",
   "execution_count": 12,
   "metadata": {
    "colab": {
     "base_uri": "https://localhost:8080/",
     "height": 72
    },
    "colab_type": "code",
    "executionInfo": {
     "elapsed": 840,
     "status": "ok",
     "timestamp": 1598687422120,
     "user": {
      "displayName": "Ankush Kulashri",
      "photoUrl": "https://lh4.googleusercontent.com/-uDXuncaw9Q8/AAAAAAAAAAI/AAAAAAAABBQ/0i_XWV50jgY/s64/photo.jpg",
      "userId": "07363556836472681627"
     },
     "user_tz": -330
    },
    "id": "5A6DM9LDihMO",
    "outputId": "9f463aab-944a-4da6-e331-83f35be7b107"
   },
   "outputs": [
    {
     "name": "stdout",
     "output_type": "stream",
     "text": [
      "The key \"Name\" has the value \"Ankush Kulashri\" of the type \"<class 'str'>\"\n",
      "The key \"Age\" has the value \"28\" of the type \"<class 'int'>\"\n",
      "The key \"HasAndroidPhone\" has the value \"True\" of the type \"<class 'bool'>\"\n"
     ]
    }
   ],
   "source": [
    "# this is optional\n",
    "for x in person:\n",
    "    print(\"The key \\\"\"+str(x)+\"\\\" has the value \\\"\"+str(person[x])+\"\\\" of the type \\\"\"+str(type(person[x]))+\"\\\"\")"
   ]
  },
  {
   "cell_type": "markdown",
   "metadata": {
    "colab_type": "text",
    "id": "kwWFcBXiihMS"
   },
   "source": [
    "Now that you've solved one problem, it would be a good idea to record a snapshot of your notebook."
   ]
  },
  {
   "cell_type": "code",
   "execution_count": 13,
   "metadata": {
    "colab": {
     "base_uri": "https://localhost:8080/",
     "height": 90
    },
    "colab_type": "code",
    "executionInfo": {
     "elapsed": 3097,
     "status": "ok",
     "timestamp": 1598687427471,
     "user": {
      "displayName": "Ankush Kulashri",
      "photoUrl": "https://lh4.googleusercontent.com/-uDXuncaw9Q8/AAAAAAAAAAI/AAAAAAAABBQ/0i_XWV50jgY/s64/photo.jpg",
      "userId": "07363556836472681627"
     },
     "user_tz": -330
    },
    "id": "4JOWPEIPihMT",
    "outputId": "23c33471-3554-4d22-a3db-a04479ccd5d6"
   },
   "outputs": [
    {
     "name": "stdout",
     "output_type": "stream",
     "text": [
      "[jovian] Detected Colab notebook...\u001b[0m\n",
      "[jovian] Uploading colab notebook to Jovian...\u001b[0m\n",
      "[jovian] Committed successfully! https://jovian.ml/ankush-kulashri/python-practice-assignment\u001b[0m\n"
     ]
    },
    {
     "data": {
      "application/vnd.google.colaboratory.intrinsic+json": {
       "type": "string"
      },
      "text/plain": [
       "'https://jovian.ml/ankush-kulashri/python-practice-assignment'"
      ]
     },
     "execution_count": 13,
     "metadata": {
      "tags": []
     },
     "output_type": "execute_result"
    }
   ],
   "source": [
    "jovian.commit(project=project_name,environment=None)"
   ]
  },
  {
   "cell_type": "markdown",
   "metadata": {
    "colab_type": "text",
    "id": "xpcaq7lwihMY"
   },
   "source": [
    "## Problem 2 - Working with Lists\n",
    "\n",
    "**Q: Create a list containing the following 3 elements:**\n",
    "\n",
    "* your favorite color\n",
    "* the number of pets you have\n",
    "* a boolean value describing whether you have previous programming experience\n"
   ]
  },
  {
   "cell_type": "code",
   "execution_count": 14,
   "metadata": {
    "colab": {},
    "colab_type": "code",
    "executionInfo": {
     "elapsed": 822,
     "status": "ok",
     "timestamp": 1598687432432,
     "user": {
      "displayName": "Ankush Kulashri",
      "photoUrl": "https://lh4.googleusercontent.com/-uDXuncaw9Q8/AAAAAAAAAAI/AAAAAAAABBQ/0i_XWV50jgY/s64/photo.jpg",
      "userId": "07363556836472681627"
     },
     "user_tz": -330
    },
    "id": "D8oYw8FuihMa"
   },
   "outputs": [],
   "source": [
    "my_list = [\"red\",0,True]"
   ]
  },
  {
   "cell_type": "markdown",
   "metadata": {
    "colab_type": "text",
    "id": "FuZ7M0CZihMe"
   },
   "source": [
    "Let's see what the list looks like:"
   ]
  },
  {
   "cell_type": "code",
   "execution_count": 15,
   "metadata": {
    "colab": {
     "base_uri": "https://localhost:8080/",
     "height": 35
    },
    "colab_type": "code",
    "executionInfo": {
     "elapsed": 889,
     "status": "ok",
     "timestamp": 1598687436258,
     "user": {
      "displayName": "Ankush Kulashri",
      "photoUrl": "https://lh4.googleusercontent.com/-uDXuncaw9Q8/AAAAAAAAAAI/AAAAAAAABBQ/0i_XWV50jgY/s64/photo.jpg",
      "userId": "07363556836472681627"
     },
     "user_tz": -330
    },
    "id": "TLCXAPGwihMe",
    "outputId": "d4196cbc-3a2b-4a7f-ec29-95b731497066"
   },
   "outputs": [
    {
     "data": {
      "text/plain": [
       "['red', 0, True]"
      ]
     },
     "execution_count": 15,
     "metadata": {
      "tags": []
     },
     "output_type": "execute_result"
    }
   ],
   "source": [
    "my_list"
   ]
  },
  {
   "cell_type": "markdown",
   "metadata": {
    "colab_type": "text",
    "id": "zOndWI-YihMi"
   },
   "source": [
    "**Q: Complete the following `print` and `if` statements by accessing the appropriate elements from `my_list`.**\n",
    "\n",
    "*Hint*: Use the list indexing notation `[]`."
   ]
  },
  {
   "cell_type": "code",
   "execution_count": 16,
   "metadata": {
    "colab": {
     "base_uri": "https://localhost:8080/",
     "height": 35
    },
    "colab_type": "code",
    "executionInfo": {
     "elapsed": 798,
     "status": "ok",
     "timestamp": 1598687438736,
     "user": {
      "displayName": "Ankush Kulashri",
      "photoUrl": "https://lh4.googleusercontent.com/-uDXuncaw9Q8/AAAAAAAAAAI/AAAAAAAABBQ/0i_XWV50jgY/s64/photo.jpg",
      "userId": "07363556836472681627"
     },
     "user_tz": -330
    },
    "id": "j0BbT2vXihMj",
    "outputId": "8afaf2f9-5e25-40d6-a351-d9cb26a4ed5b"
   },
   "outputs": [
    {
     "name": "stdout",
     "output_type": "stream",
     "text": [
      "My favorite color is red\n"
     ]
    }
   ],
   "source": [
    "print('My favorite color is', my_list[0])"
   ]
  },
  {
   "cell_type": "code",
   "execution_count": 17,
   "metadata": {
    "colab": {
     "base_uri": "https://localhost:8080/",
     "height": 35
    },
    "colab_type": "code",
    "executionInfo": {
     "elapsed": 850,
     "status": "ok",
     "timestamp": 1598687441200,
     "user": {
      "displayName": "Ankush Kulashri",
      "photoUrl": "https://lh4.googleusercontent.com/-uDXuncaw9Q8/AAAAAAAAAAI/AAAAAAAABBQ/0i_XWV50jgY/s64/photo.jpg",
      "userId": "07363556836472681627"
     },
     "user_tz": -330
    },
    "id": "6JIezkRmihMo",
    "outputId": "5fae5667-b7bc-498c-838a-59dfeeed0270"
   },
   "outputs": [
    {
     "name": "stdout",
     "output_type": "stream",
     "text": [
      "I have 0 pet(s).\n"
     ]
    }
   ],
   "source": [
    "print('I have {} pet(s).'.format(my_list[1]))"
   ]
  },
  {
   "cell_type": "code",
   "execution_count": 18,
   "metadata": {
    "colab": {
     "base_uri": "https://localhost:8080/",
     "height": 35
    },
    "colab_type": "code",
    "executionInfo": {
     "elapsed": 833,
     "status": "ok",
     "timestamp": 1598687442963,
     "user": {
      "displayName": "Ankush Kulashri",
      "photoUrl": "https://lh4.googleusercontent.com/-uDXuncaw9Q8/AAAAAAAAAAI/AAAAAAAABBQ/0i_XWV50jgY/s64/photo.jpg",
      "userId": "07363556836472681627"
     },
     "user_tz": -330
    },
    "id": "mM28AHdeihMr",
    "outputId": "13c55e4f-85c7-4b8e-a550-cdebaa2c0625"
   },
   "outputs": [
    {
     "name": "stdout",
     "output_type": "stream",
     "text": [
      "I have previous programming experience\n"
     ]
    }
   ],
   "source": [
    "if my_list[2]:\n",
    "    print(\"I have previous programming experience\")\n",
    "else:\n",
    "    print(\"I do not have previous programming experience\")"
   ]
  },
  {
   "cell_type": "markdown",
   "metadata": {
    "colab_type": "text",
    "id": "ynW0PSv0ihMw"
   },
   "source": [
    "**Q: Add your favorite single digit number to the end of the list using the appropriate list method.**"
   ]
  },
  {
   "cell_type": "code",
   "execution_count": 19,
   "metadata": {
    "colab": {},
    "colab_type": "code",
    "executionInfo": {
     "elapsed": 872,
     "status": "ok",
     "timestamp": 1598687445028,
     "user": {
      "displayName": "Ankush Kulashri",
      "photoUrl": "https://lh4.googleusercontent.com/-uDXuncaw9Q8/AAAAAAAAAAI/AAAAAAAABBQ/0i_XWV50jgY/s64/photo.jpg",
      "userId": "07363556836472681627"
     },
     "user_tz": -330
    },
    "id": "OWfJgtEvihMw"
   },
   "outputs": [],
   "source": [
    "my_list.append(11)"
   ]
  },
  {
   "cell_type": "markdown",
   "metadata": {
    "colab_type": "text",
    "id": "IqMTgAbTihM0"
   },
   "source": [
    "Let's see if the number shows up in the list."
   ]
  },
  {
   "cell_type": "code",
   "execution_count": 20,
   "metadata": {
    "colab": {
     "base_uri": "https://localhost:8080/",
     "height": 35
    },
    "colab_type": "code",
    "executionInfo": {
     "elapsed": 830,
     "status": "ok",
     "timestamp": 1598687452091,
     "user": {
      "displayName": "Ankush Kulashri",
      "photoUrl": "https://lh4.googleusercontent.com/-uDXuncaw9Q8/AAAAAAAAAAI/AAAAAAAABBQ/0i_XWV50jgY/s64/photo.jpg",
      "userId": "07363556836472681627"
     },
     "user_tz": -330
    },
    "id": "W4hDtDHbihM1",
    "outputId": "2a1ebdc4-c2f3-4cd3-f0e3-864df24b3959"
   },
   "outputs": [
    {
     "data": {
      "text/plain": [
       "['red', 0, True, 11]"
      ]
     },
     "execution_count": 20,
     "metadata": {
      "tags": []
     },
     "output_type": "execute_result"
    }
   ],
   "source": [
    "my_list"
   ]
  },
  {
   "cell_type": "markdown",
   "metadata": {
    "colab_type": "text",
    "id": "y3BNW23yihM5"
   },
   "source": [
    "**Q: Remove the first element of the list, using the appropriate list method.**\n",
    "\n",
    "*Hint*: Check out methods of list here: https://www.w3schools.com/python/python_ref_list.asp"
   ]
  },
  {
   "cell_type": "code",
   "execution_count": 21,
   "metadata": {
    "colab": {
     "base_uri": "https://localhost:8080/",
     "height": 36
    },
    "colab_type": "code",
    "executionInfo": {
     "elapsed": 857,
     "status": "ok",
     "timestamp": 1598687456608,
     "user": {
      "displayName": "Ankush Kulashri",
      "photoUrl": "https://lh4.googleusercontent.com/-uDXuncaw9Q8/AAAAAAAAAAI/AAAAAAAABBQ/0i_XWV50jgY/s64/photo.jpg",
      "userId": "07363556836472681627"
     },
     "user_tz": -330
    },
    "id": "jQI1_Y8QihM6",
    "outputId": "78323f20-54c3-4be2-f5af-f63fc0c6aa94"
   },
   "outputs": [
    {
     "data": {
      "application/vnd.google.colaboratory.intrinsic+json": {
       "type": "string"
      },
      "text/plain": [
       "'red'"
      ]
     },
     "execution_count": 21,
     "metadata": {
      "tags": []
     },
     "output_type": "execute_result"
    }
   ],
   "source": [
    "my_list.pop(0)"
   ]
  },
  {
   "cell_type": "code",
   "execution_count": 22,
   "metadata": {
    "colab": {
     "base_uri": "https://localhost:8080/",
     "height": 35
    },
    "colab_type": "code",
    "executionInfo": {
     "elapsed": 613,
     "status": "ok",
     "timestamp": 1598687457861,
     "user": {
      "displayName": "Ankush Kulashri",
      "photoUrl": "https://lh4.googleusercontent.com/-uDXuncaw9Q8/AAAAAAAAAAI/AAAAAAAABBQ/0i_XWV50jgY/s64/photo.jpg",
      "userId": "07363556836472681627"
     },
     "user_tz": -330
    },
    "id": "prMX693jihM_",
    "outputId": "5854e22b-41d4-4c2f-f40c-1e1f16d135da"
   },
   "outputs": [
    {
     "data": {
      "text/plain": [
       "[0, True, 11]"
      ]
     },
     "execution_count": 22,
     "metadata": {
      "tags": []
     },
     "output_type": "execute_result"
    }
   ],
   "source": [
    "my_list"
   ]
  },
  {
   "cell_type": "markdown",
   "metadata": {
    "colab_type": "text",
    "id": "73b6W8DtihND"
   },
   "source": [
    "**Q: Complete the `print` statement below to display the number of elements in `my_list`.**"
   ]
  },
  {
   "cell_type": "code",
   "execution_count": 23,
   "metadata": {
    "colab": {
     "base_uri": "https://localhost:8080/",
     "height": 35
    },
    "colab_type": "code",
    "executionInfo": {
     "elapsed": 1085,
     "status": "ok",
     "timestamp": 1598687460769,
     "user": {
      "displayName": "Ankush Kulashri",
      "photoUrl": "https://lh4.googleusercontent.com/-uDXuncaw9Q8/AAAAAAAAAAI/AAAAAAAABBQ/0i_XWV50jgY/s64/photo.jpg",
      "userId": "07363556836472681627"
     },
     "user_tz": -330
    },
    "id": "DHxGEGaaihND",
    "outputId": "7224209d-ff7f-42a6-f8e6-59aab0aed73d"
   },
   "outputs": [
    {
     "name": "stdout",
     "output_type": "stream",
     "text": [
      "The list has 3 elements.\n"
     ]
    }
   ],
   "source": [
    "print(\"The list has {} elements.\".format(len(my_list)))"
   ]
  },
  {
   "cell_type": "markdown",
   "metadata": {
    "colab_type": "text",
    "id": "y_FYUcWEihNI"
   },
   "source": [
    "Well done, you're making good progress! Save your work before continuing"
   ]
  },
  {
   "cell_type": "code",
   "execution_count": 24,
   "metadata": {
    "colab": {
     "base_uri": "https://localhost:8080/",
     "height": 90
    },
    "colab_type": "code",
    "executionInfo": {
     "elapsed": 3034,
     "status": "ok",
     "timestamp": 1598687467341,
     "user": {
      "displayName": "Ankush Kulashri",
      "photoUrl": "https://lh4.googleusercontent.com/-uDXuncaw9Q8/AAAAAAAAAAI/AAAAAAAABBQ/0i_XWV50jgY/s64/photo.jpg",
      "userId": "07363556836472681627"
     },
     "user_tz": -330
    },
    "id": "0wgKoWE8ihNJ",
    "outputId": "397ea4d4-4d08-4a7e-d922-18817857eb25"
   },
   "outputs": [
    {
     "name": "stdout",
     "output_type": "stream",
     "text": [
      "[jovian] Detected Colab notebook...\u001b[0m\n",
      "[jovian] Uploading colab notebook to Jovian...\u001b[0m\n",
      "[jovian] Committed successfully! https://jovian.ml/ankush-kulashri/python-practice-assignment\u001b[0m\n"
     ]
    },
    {
     "data": {
      "application/vnd.google.colaboratory.intrinsic+json": {
       "type": "string"
      },
      "text/plain": [
       "'https://jovian.ml/ankush-kulashri/python-practice-assignment'"
      ]
     },
     "execution_count": 24,
     "metadata": {
      "tags": []
     },
     "output_type": "execute_result"
    }
   ],
   "source": [
    "jovian.commit(project=project_name,environment=None)"
   ]
  },
  {
   "cell_type": "markdown",
   "metadata": {
    "colab_type": "text",
    "id": "bsoYyEzrihNM"
   },
   "source": [
    "## Problem 3 - Conditions and loops\n",
    "\n",
    "**Q: Calculate and display the sum of all the numbers divisible by 7 between 18 and 534 i.e. `21+28+35+...+525+532`**.\n",
    "\n",
    "*Hint*: One way to do this is to loop over a `range` using `for` and use an `if` statement inside it."
   ]
  },
  {
   "cell_type": "code",
   "execution_count": 25,
   "metadata": {
    "colab": {},
    "colab_type": "code",
    "executionInfo": {
     "elapsed": 905,
     "status": "ok",
     "timestamp": 1598687473936,
     "user": {
      "displayName": "Ankush Kulashri",
      "photoUrl": "https://lh4.googleusercontent.com/-uDXuncaw9Q8/AAAAAAAAAAI/AAAAAAAABBQ/0i_XWV50jgY/s64/photo.jpg",
      "userId": "07363556836472681627"
     },
     "user_tz": -330
    },
    "id": "kAZVduDgihNN"
   },
   "outputs": [],
   "source": [
    "# store the final answer in this variable\n",
    "sum_of_numbers = 0\n",
    "\n",
    "# perform the calculation here\n",
    "for x in range(18,534):\n",
    "    if x%7==0:\n",
    "        sum_of_numbers+=x"
   ]
  },
  {
   "cell_type": "code",
   "execution_count": 26,
   "metadata": {
    "colab": {
     "base_uri": "https://localhost:8080/",
     "height": 35
    },
    "colab_type": "code",
    "executionInfo": {
     "elapsed": 824,
     "status": "ok",
     "timestamp": 1598687477723,
     "user": {
      "displayName": "Ankush Kulashri",
      "photoUrl": "https://lh4.googleusercontent.com/-uDXuncaw9Q8/AAAAAAAAAAI/AAAAAAAABBQ/0i_XWV50jgY/s64/photo.jpg",
      "userId": "07363556836472681627"
     },
     "user_tz": -330
    },
    "id": "qStaqi6oihNQ",
    "outputId": "f3d0063a-f141-45b9-ece0-32de882e6ef4"
   },
   "outputs": [
    {
     "name": "stdout",
     "output_type": "stream",
     "text": [
      "The sum of all the numbers divisible by 7 between 18 and 534 is 20461\n"
     ]
    }
   ],
   "source": [
    "print('The sum of all the numbers divisible by 7 between 18 and 534 is', sum_of_numbers)"
   ]
  },
  {
   "cell_type": "markdown",
   "metadata": {
    "colab_type": "text",
    "id": "X5oCFSGsihNT"
   },
   "source": [
    "If you are not able to figure out the solution to this problem, you can ask for hints on the community forum: https://jovian.ml/forum/t/assignment-1-python-practice/7761 . Remember to save your work before moving forward."
   ]
  },
  {
   "cell_type": "code",
   "execution_count": 27,
   "metadata": {
    "colab": {
     "base_uri": "https://localhost:8080/",
     "height": 90
    },
    "colab_type": "code",
    "executionInfo": {
     "elapsed": 3079,
     "status": "ok",
     "timestamp": 1598687483939,
     "user": {
      "displayName": "Ankush Kulashri",
      "photoUrl": "https://lh4.googleusercontent.com/-uDXuncaw9Q8/AAAAAAAAAAI/AAAAAAAABBQ/0i_XWV50jgY/s64/photo.jpg",
      "userId": "07363556836472681627"
     },
     "user_tz": -330
    },
    "id": "5cf_O1cuihNX",
    "outputId": "9b86e263-b5be-4af6-b337-992783216312"
   },
   "outputs": [
    {
     "name": "stdout",
     "output_type": "stream",
     "text": [
      "[jovian] Detected Colab notebook...\u001b[0m\n",
      "[jovian] Uploading colab notebook to Jovian...\u001b[0m\n",
      "[jovian] Committed successfully! https://jovian.ml/ankush-kulashri/python-practice-assignment\u001b[0m\n"
     ]
    },
    {
     "data": {
      "application/vnd.google.colaboratory.intrinsic+json": {
       "type": "string"
      },
      "text/plain": [
       "'https://jovian.ml/ankush-kulashri/python-practice-assignment'"
      ]
     },
     "execution_count": 27,
     "metadata": {
      "tags": []
     },
     "output_type": "execute_result"
    }
   ],
   "source": [
    "jovian.commit(project=project_name,environment=None)"
   ]
  },
  {
   "cell_type": "markdown",
   "metadata": {
    "colab_type": "text",
    "id": "XYGRwy8tihNc"
   },
   "source": [
    "## Problem 4 - Flying to the Bahamas\n",
    "\n",
    "**Q: A travel company wants to fly a plane to the Bahamas. Flying the plane costs 5000 dollars. So far, 29 people have signed up for the trip. If the company charges 200 dollars per ticket, what is the profit made by the company?**\n",
    "\n",
    "Fill in values or arithmetic expressions for the variables below."
   ]
  },
  {
   "cell_type": "code",
   "execution_count": 28,
   "metadata": {
    "colab": {},
    "colab_type": "code",
    "executionInfo": {
     "elapsed": 872,
     "status": "ok",
     "timestamp": 1598687490989,
     "user": {
      "displayName": "Ankush Kulashri",
      "photoUrl": "https://lh4.googleusercontent.com/-uDXuncaw9Q8/AAAAAAAAAAI/AAAAAAAABBQ/0i_XWV50jgY/s64/photo.jpg",
      "userId": "07363556836472681627"
     },
     "user_tz": -330
    },
    "id": "71oe6RtlihNd"
   },
   "outputs": [],
   "source": [
    "cost_of_flying_plane = 5000"
   ]
  },
  {
   "cell_type": "code",
   "execution_count": 29,
   "metadata": {
    "colab": {},
    "colab_type": "code",
    "executionInfo": {
     "elapsed": 839,
     "status": "ok",
     "timestamp": 1598687492303,
     "user": {
      "displayName": "Ankush Kulashri",
      "photoUrl": "https://lh4.googleusercontent.com/-uDXuncaw9Q8/AAAAAAAAAAI/AAAAAAAABBQ/0i_XWV50jgY/s64/photo.jpg",
      "userId": "07363556836472681627"
     },
     "user_tz": -330
    },
    "id": "0pGVe8nzihNf"
   },
   "outputs": [],
   "source": [
    "number_of_passengers = 29"
   ]
  },
  {
   "cell_type": "code",
   "execution_count": 30,
   "metadata": {
    "colab": {},
    "colab_type": "code",
    "executionInfo": {
     "elapsed": 848,
     "status": "ok",
     "timestamp": 1598687494337,
     "user": {
      "displayName": "Ankush Kulashri",
      "photoUrl": "https://lh4.googleusercontent.com/-uDXuncaw9Q8/AAAAAAAAAAI/AAAAAAAABBQ/0i_XWV50jgY/s64/photo.jpg",
      "userId": "07363556836472681627"
     },
     "user_tz": -330
    },
    "id": "1Xd_zmobihNi"
   },
   "outputs": [],
   "source": [
    "price_of_ticket = 200"
   ]
  },
  {
   "cell_type": "code",
   "execution_count": 31,
   "metadata": {
    "colab": {},
    "colab_type": "code",
    "executionInfo": {
     "elapsed": 548,
     "status": "ok",
     "timestamp": 1598687495700,
     "user": {
      "displayName": "Ankush Kulashri",
      "photoUrl": "https://lh4.googleusercontent.com/-uDXuncaw9Q8/AAAAAAAAAAI/AAAAAAAABBQ/0i_XWV50jgY/s64/photo.jpg",
      "userId": "07363556836472681627"
     },
     "user_tz": -330
    },
    "id": "X8Xck7xUihNl"
   },
   "outputs": [],
   "source": [
    "profit = (price_of_ticket*number_of_passengers) - cost_of_flying_plane"
   ]
  },
  {
   "cell_type": "code",
   "execution_count": 32,
   "metadata": {
    "colab": {
     "base_uri": "https://localhost:8080/",
     "height": 35
    },
    "colab_type": "code",
    "executionInfo": {
     "elapsed": 827,
     "status": "ok",
     "timestamp": 1598687498046,
     "user": {
      "displayName": "Ankush Kulashri",
      "photoUrl": "https://lh4.googleusercontent.com/-uDXuncaw9Q8/AAAAAAAAAAI/AAAAAAAABBQ/0i_XWV50jgY/s64/photo.jpg",
      "userId": "07363556836472681627"
     },
     "user_tz": -330
    },
    "id": "QRq--JS6ihNr",
    "outputId": "f53d6d8f-1a33-466e-a65a-575d5b6916dc"
   },
   "outputs": [
    {
     "name": "stdout",
     "output_type": "stream",
     "text": [
      "The company makes of a profit of 800 dollars\n"
     ]
    }
   ],
   "source": [
    "print('The company makes of a profit of {} dollars'.format(profit))"
   ]
  },
  {
   "cell_type": "markdown",
   "metadata": {
    "colab_type": "text",
    "id": "Airg5eogihNu"
   },
   "source": [
    "**Q (Optional): Out of the 29 people who took the flight, only 12 buy tickets to return from the Bahamas on the same plane. If the flying the plane back also costs 5000 dollars, and does the company make an overall profit or loss? The company charges the same fee of 200 dollars per ticket for the return flight.**\n",
    "\n",
    "Use an `if` statement to display the result."
   ]
  },
  {
   "cell_type": "code",
   "execution_count": 33,
   "metadata": {
    "colab": {},
    "colab_type": "code",
    "executionInfo": {
     "elapsed": 847,
     "status": "ok",
     "timestamp": 1598687502040,
     "user": {
      "displayName": "Ankush Kulashri",
      "photoUrl": "https://lh4.googleusercontent.com/-uDXuncaw9Q8/AAAAAAAAAAI/AAAAAAAABBQ/0i_XWV50jgY/s64/photo.jpg",
      "userId": "07363556836472681627"
     },
     "user_tz": -330
    },
    "id": "8TdN3vscihNu"
   },
   "outputs": [],
   "source": [
    "# this is optional\n",
    "number_of_returnees = 12\n",
    "return_cost = (number_of_returnees*price_of_ticket) - cost_of_flying_plane"
   ]
  },
  {
   "cell_type": "code",
   "execution_count": 34,
   "metadata": {
    "colab": {
     "base_uri": "https://localhost:8080/",
     "height": 35
    },
    "colab_type": "code",
    "executionInfo": {
     "elapsed": 842,
     "status": "ok",
     "timestamp": 1598687504397,
     "user": {
      "displayName": "Ankush Kulashri",
      "photoUrl": "https://lh4.googleusercontent.com/-uDXuncaw9Q8/AAAAAAAAAAI/AAAAAAAABBQ/0i_XWV50jgY/s64/photo.jpg",
      "userId": "07363556836472681627"
     },
     "user_tz": -330
    },
    "id": "X9_CFmRUihNx",
    "outputId": "584f8bb3-4caf-4446-9edc-3b9ed36c5093"
   },
   "outputs": [
    {
     "name": "stdout",
     "output_type": "stream",
     "text": [
      "The company makes an overall loss of -2600 dollars\n"
     ]
    }
   ],
   "source": [
    "# this is optional\n",
    "if return_cost>0:\n",
    "    print(\"The company makes an overall profit of {} dollars\".format(return_cost))\n",
    "else:\n",
    "    print(\"The company makes an overall loss of {} dollars\".format(return_cost))"
   ]
  },
  {
   "cell_type": "markdown",
   "metadata": {
    "colab_type": "text",
    "id": "U3_uSGVFihN0"
   },
   "source": [
    "Great work so far! Want to take a break? Remember to save and upload your notebook to record your progress."
   ]
  },
  {
   "cell_type": "code",
   "execution_count": 35,
   "metadata": {
    "colab": {
     "base_uri": "https://localhost:8080/",
     "height": 90
    },
    "colab_type": "code",
    "executionInfo": {
     "elapsed": 2647,
     "status": "ok",
     "timestamp": 1598687509326,
     "user": {
      "displayName": "Ankush Kulashri",
      "photoUrl": "https://lh4.googleusercontent.com/-uDXuncaw9Q8/AAAAAAAAAAI/AAAAAAAABBQ/0i_XWV50jgY/s64/photo.jpg",
      "userId": "07363556836472681627"
     },
     "user_tz": -330
    },
    "id": "MmqhH8B2ihN1",
    "outputId": "01f23d40-9c40-4394-80ac-0fd800912204"
   },
   "outputs": [
    {
     "name": "stdout",
     "output_type": "stream",
     "text": [
      "[jovian] Detected Colab notebook...\u001b[0m\n",
      "[jovian] Uploading colab notebook to Jovian...\u001b[0m\n",
      "[jovian] Committed successfully! https://jovian.ml/ankush-kulashri/python-practice-assignment\u001b[0m\n"
     ]
    },
    {
     "data": {
      "application/vnd.google.colaboratory.intrinsic+json": {
       "type": "string"
      },
      "text/plain": [
       "'https://jovian.ml/ankush-kulashri/python-practice-assignment'"
      ]
     },
     "execution_count": 35,
     "metadata": {
      "tags": []
     },
     "output_type": "execute_result"
    }
   ],
   "source": [
    "jovian.commit(project=project_name,environment=None)"
   ]
  },
  {
   "cell_type": "markdown",
   "metadata": {
    "colab_type": "text",
    "id": "WexYMxvWihN3"
   },
   "source": [
    "## Problem 5 - Twitter Sentiment Analysis\n",
    "\n",
    "Are your ready to perform some *Data Analysis with Python*? In this problem, we'll analyze some fictional tweets and find out whether the overall sentiment of Twitter users is happy or sad. This is a simplified version of an important real world problem called *sentiment analysis*.\n",
    "\n",
    "Before we begin, we need a list of tweets to analyze. We're picking a small number of tweets here, but the exact same analysis can also be done for thousands, or even millions of tweets. The collection of data that we perform analysis on is often called a *dataset*."
   ]
  },
  {
   "cell_type": "code",
   "execution_count": 36,
   "metadata": {
    "colab": {},
    "colab_type": "code",
    "executionInfo": {
     "elapsed": 817,
     "status": "ok",
     "timestamp": 1598687513468,
     "user": {
      "displayName": "Ankush Kulashri",
      "photoUrl": "https://lh4.googleusercontent.com/-uDXuncaw9Q8/AAAAAAAAAAI/AAAAAAAABBQ/0i_XWV50jgY/s64/photo.jpg",
      "userId": "07363556836472681627"
     },
     "user_tz": -330
    },
    "id": "BzXAy2q9ihN4"
   },
   "outputs": [],
   "source": [
    "tweets = [\n",
    "    \"Wow, what a great day today!! #sunshine\",\n",
    "    \"I feel sad about the things going on around us. #covid19\",\n",
    "    \"I'm really excited to learn Python with @JovianML #zerotopandas\",\n",
    "    \"This is a really nice song. #linkinpark\",\n",
    "    \"The python programming language is useful for data science\",\n",
    "    \"Why do bad things happen to me?\",\n",
    "    \"Apple announces the release of the new iPhone 12. Fans are excited.\",\n",
    "    \"Spent my day with family!! #happy\",\n",
    "    \"Check out my blog post on common string operations in Python. #zerotopandas\",\n",
    "    \"Freecodecamp has great coding tutorials. #skillup\"\n",
    "]"
   ]
  },
  {
   "cell_type": "markdown",
   "metadata": {
    "colab_type": "text",
    "id": "CTgZTVefihN6"
   },
   "source": [
    "Let's begin by answering a very simple but important question about our dataset.\n",
    "\n",
    "**Q: How many tweets does the dataset contain?**"
   ]
  },
  {
   "cell_type": "code",
   "execution_count": 37,
   "metadata": {
    "colab": {},
    "colab_type": "code",
    "executionInfo": {
     "elapsed": 843,
     "status": "ok",
     "timestamp": 1598687515964,
     "user": {
      "displayName": "Ankush Kulashri",
      "photoUrl": "https://lh4.googleusercontent.com/-uDXuncaw9Q8/AAAAAAAAAAI/AAAAAAAABBQ/0i_XWV50jgY/s64/photo.jpg",
      "userId": "07363556836472681627"
     },
     "user_tz": -330
    },
    "id": "AfM3UYX3ihN7"
   },
   "outputs": [],
   "source": [
    "number_of_tweets = len(tweets)"
   ]
  },
  {
   "cell_type": "markdown",
   "metadata": {
    "colab_type": "text",
    "id": "_NnanvW5ihN-"
   },
   "source": [
    "Let's create two lists of words: `happy_words` and `sad_words`. We will use these to check if a tweet is happy or sad."
   ]
  },
  {
   "cell_type": "code",
   "execution_count": 38,
   "metadata": {
    "colab": {},
    "colab_type": "code",
    "executionInfo": {
     "elapsed": 1045,
     "status": "ok",
     "timestamp": 1598687519588,
     "user": {
      "displayName": "Ankush Kulashri",
      "photoUrl": "https://lh4.googleusercontent.com/-uDXuncaw9Q8/AAAAAAAAAAI/AAAAAAAABBQ/0i_XWV50jgY/s64/photo.jpg",
      "userId": "07363556836472681627"
     },
     "user_tz": -330
    },
    "id": "9Ai44-OQihN-"
   },
   "outputs": [],
   "source": [
    "happy_words = ['great', 'excited', 'happy', 'nice', 'wonderful', 'amazing', 'good', 'best']"
   ]
  },
  {
   "cell_type": "code",
   "execution_count": 40,
   "metadata": {
    "colab": {},
    "colab_type": "code",
    "executionInfo": {
     "elapsed": 857,
     "status": "ok",
     "timestamp": 1598687523716,
     "user": {
      "displayName": "Ankush Kulashri",
      "photoUrl": "https://lh4.googleusercontent.com/-uDXuncaw9Q8/AAAAAAAAAAI/AAAAAAAABBQ/0i_XWV50jgY/s64/photo.jpg",
      "userId": "07363556836472681627"
     },
     "user_tz": -330
    },
    "id": "0lThpRspihOA"
   },
   "outputs": [],
   "source": [
    "sad_words = ['sad', 'bad', 'tragic', 'unhappy', 'worst']"
   ]
  },
  {
   "cell_type": "markdown",
   "metadata": {
    "colab_type": "text",
    "id": "SSk7PN9tihOE"
   },
   "source": [
    "To identify whether a tweet is happy, we can simply check if contains any of the words from `happy_words`. Here's an example:"
   ]
  },
  {
   "cell_type": "code",
   "execution_count": 41,
   "metadata": {
    "colab": {},
    "colab_type": "code",
    "executionInfo": {
     "elapsed": 909,
     "status": "ok",
     "timestamp": 1598687529957,
     "user": {
      "displayName": "Ankush Kulashri",
      "photoUrl": "https://lh4.googleusercontent.com/-uDXuncaw9Q8/AAAAAAAAAAI/AAAAAAAABBQ/0i_XWV50jgY/s64/photo.jpg",
      "userId": "07363556836472681627"
     },
     "user_tz": -330
    },
    "id": "hGEa8qtPihOE"
   },
   "outputs": [],
   "source": [
    "sample_tweet = tweets[0]"
   ]
  },
  {
   "cell_type": "code",
   "execution_count": 42,
   "metadata": {
    "colab": {
     "base_uri": "https://localhost:8080/",
     "height": 36
    },
    "colab_type": "code",
    "executionInfo": {
     "elapsed": 877,
     "status": "ok",
     "timestamp": 1598687532792,
     "user": {
      "displayName": "Ankush Kulashri",
      "photoUrl": "https://lh4.googleusercontent.com/-uDXuncaw9Q8/AAAAAAAAAAI/AAAAAAAABBQ/0i_XWV50jgY/s64/photo.jpg",
      "userId": "07363556836472681627"
     },
     "user_tz": -330
    },
    "id": "w8IzdjT5ihOI",
    "outputId": "bcaf079a-753e-4efb-c68d-73e290ed5b90"
   },
   "outputs": [
    {
     "data": {
      "application/vnd.google.colaboratory.intrinsic+json": {
       "type": "string"
      },
      "text/plain": [
       "'Wow, what a great day today!! #sunshine'"
      ]
     },
     "execution_count": 42,
     "metadata": {
      "tags": []
     },
     "output_type": "execute_result"
    }
   ],
   "source": [
    "sample_tweet"
   ]
  },
  {
   "cell_type": "code",
   "execution_count": 43,
   "metadata": {
    "colab": {},
    "colab_type": "code",
    "executionInfo": {
     "elapsed": 1073,
     "status": "ok",
     "timestamp": 1598687536912,
     "user": {
      "displayName": "Ankush Kulashri",
      "photoUrl": "https://lh4.googleusercontent.com/-uDXuncaw9Q8/AAAAAAAAAAI/AAAAAAAABBQ/0i_XWV50jgY/s64/photo.jpg",
      "userId": "07363556836472681627"
     },
     "user_tz": -330
    },
    "id": "YAFWXprXihOL"
   },
   "outputs": [],
   "source": [
    "is_tweet_happy = False\n",
    "\n",
    "# Get a word from happy_words\n",
    "for word in happy_words:\n",
    "    # Check if the tweet contains the word\n",
    "    if word in sample_tweet:\n",
    "        # Word found! Mark the tweet as happy\n",
    "        is_tweet_happy = True"
   ]
  },
  {
   "cell_type": "markdown",
   "metadata": {
    "colab_type": "text",
    "id": "gkJ1qYTtihOO"
   },
   "source": [
    "Do you understand what we're doing above? \n",
    "\n",
    "> For each word in the list of happy words, we check if is a part of the selected tweet. If the word is indeed a part of the tweet, we set the variable `is_tweet_happy` to `True`. "
   ]
  },
  {
   "cell_type": "code",
   "execution_count": 44,
   "metadata": {
    "colab": {
     "base_uri": "https://localhost:8080/",
     "height": 35
    },
    "colab_type": "code",
    "executionInfo": {
     "elapsed": 851,
     "status": "ok",
     "timestamp": 1598687541199,
     "user": {
      "displayName": "Ankush Kulashri",
      "photoUrl": "https://lh4.googleusercontent.com/-uDXuncaw9Q8/AAAAAAAAAAI/AAAAAAAABBQ/0i_XWV50jgY/s64/photo.jpg",
      "userId": "07363556836472681627"
     },
     "user_tz": -330
    },
    "id": "yat8LHjWihOO",
    "outputId": "bd7307cb-a654-4797-f13d-802b3c03af82"
   },
   "outputs": [
    {
     "data": {
      "text/plain": [
       "True"
      ]
     },
     "execution_count": 44,
     "metadata": {
      "tags": []
     },
     "output_type": "execute_result"
    }
   ],
   "source": [
    "is_tweet_happy"
   ]
  },
  {
   "cell_type": "markdown",
   "metadata": {
    "colab_type": "text",
    "id": "uJH02x8aihOQ"
   },
   "source": [
    "**Q: Determine the number of tweets in the dataset that can be classified as happy.**\n",
    "\n",
    "*Hint*: You'll need to use a loop inside another loop to do this. Use the code from the example shown above."
   ]
  },
  {
   "cell_type": "code",
   "execution_count": 45,
   "metadata": {
    "colab": {},
    "colab_type": "code",
    "executionInfo": {
     "elapsed": 873,
     "status": "ok",
     "timestamp": 1598687544910,
     "user": {
      "displayName": "Ankush Kulashri",
      "photoUrl": "https://lh4.googleusercontent.com/-uDXuncaw9Q8/AAAAAAAAAAI/AAAAAAAABBQ/0i_XWV50jgY/s64/photo.jpg",
      "userId": "07363556836472681627"
     },
     "user_tz": -330
    },
    "id": "uyul15DJihOR"
   },
   "outputs": [],
   "source": [
    "# store the final answer in this variable\n",
    "number_of_happy_tweets = 0\n",
    "\n",
    "# perform the calculations here\n",
    "for tweet in tweets:\n",
    "  for happy_word in happy_words:\n",
    "    if happy_word in tweet:\n",
    "      number_of_happy_tweets+=1"
   ]
  },
  {
   "cell_type": "code",
   "execution_count": 46,
   "metadata": {
    "colab": {
     "base_uri": "https://localhost:8080/",
     "height": 35
    },
    "colab_type": "code",
    "executionInfo": {
     "elapsed": 863,
     "status": "ok",
     "timestamp": 1598687547949,
     "user": {
      "displayName": "Ankush Kulashri",
      "photoUrl": "https://lh4.googleusercontent.com/-uDXuncaw9Q8/AAAAAAAAAAI/AAAAAAAABBQ/0i_XWV50jgY/s64/photo.jpg",
      "userId": "07363556836472681627"
     },
     "user_tz": -330
    },
    "id": "oZbSLHxsihOV",
    "outputId": "7044f617-6433-4b18-d40d-e73916444ece"
   },
   "outputs": [
    {
     "name": "stdout",
     "output_type": "stream",
     "text": [
      "Number of happy tweets: 6\n"
     ]
    }
   ],
   "source": [
    "print(\"Number of happy tweets:\", number_of_happy_tweets)"
   ]
  },
  {
   "cell_type": "markdown",
   "metadata": {
    "colab_type": "text",
    "id": "ExeZ5jAkihOZ"
   },
   "source": [
    "If you are not able to figure out the solution to this problem, you can ask for hints on the community forum: https://jovian.ml/forum/t/assignment-1-python-practice/7761 . Also try adding `print` statements inside your loops to inspect variables and make sure your logic is correct."
   ]
  },
  {
   "cell_type": "markdown",
   "metadata": {
    "colab_type": "text",
    "id": "0BhGRT-8ihOa"
   },
   "source": [
    "**Q: What fraction of the total number of tweets are happy?**\n",
    "\n",
    "For example, if 2 out of 10 tweets are happy, then the answer is `2/10` i.e. `0.2`."
   ]
  },
  {
   "cell_type": "code",
   "execution_count": 47,
   "metadata": {
    "colab": {},
    "colab_type": "code",
    "executionInfo": {
     "elapsed": 895,
     "status": "ok",
     "timestamp": 1598687552736,
     "user": {
      "displayName": "Ankush Kulashri",
      "photoUrl": "https://lh4.googleusercontent.com/-uDXuncaw9Q8/AAAAAAAAAAI/AAAAAAAABBQ/0i_XWV50jgY/s64/photo.jpg",
      "userId": "07363556836472681627"
     },
     "user_tz": -330
    },
    "id": "objhCukbihOa"
   },
   "outputs": [],
   "source": [
    "happy_fraction = number_of_happy_tweets / number_of_tweets"
   ]
  },
  {
   "cell_type": "code",
   "execution_count": 48,
   "metadata": {
    "colab": {
     "base_uri": "https://localhost:8080/",
     "height": 35
    },
    "colab_type": "code",
    "executionInfo": {
     "elapsed": 910,
     "status": "ok",
     "timestamp": 1598687555507,
     "user": {
      "displayName": "Ankush Kulashri",
      "photoUrl": "https://lh4.googleusercontent.com/-uDXuncaw9Q8/AAAAAAAAAAI/AAAAAAAABBQ/0i_XWV50jgY/s64/photo.jpg",
      "userId": "07363556836472681627"
     },
     "user_tz": -330
    },
    "id": "MOxR8yERihOd",
    "outputId": "54a02b30-8be8-4169-e2d7-a3d79eaaf936"
   },
   "outputs": [
    {
     "name": "stdout",
     "output_type": "stream",
     "text": [
      "The fraction of happy tweets is: 0.6\n"
     ]
    }
   ],
   "source": [
    "print(\"The fraction of happy tweets is:\", happy_fraction)"
   ]
  },
  {
   "cell_type": "markdown",
   "metadata": {
    "colab_type": "text",
    "id": "_T4A55uuihOf"
   },
   "source": [
    "To identify whether a tweet is sad, we can simply check if contains any of the words from `sad_words`.\n",
    "\n",
    "**Q: Determine the number of tweets in the dataset that can be classified as sad.**"
   ]
  },
  {
   "cell_type": "code",
   "execution_count": 49,
   "metadata": {
    "colab": {},
    "colab_type": "code",
    "executionInfo": {
     "elapsed": 844,
     "status": "ok",
     "timestamp": 1598687576591,
     "user": {
      "displayName": "Ankush Kulashri",
      "photoUrl": "https://lh4.googleusercontent.com/-uDXuncaw9Q8/AAAAAAAAAAI/AAAAAAAABBQ/0i_XWV50jgY/s64/photo.jpg",
      "userId": "07363556836472681627"
     },
     "user_tz": -330
    },
    "id": "GcsOGKzKihOf"
   },
   "outputs": [],
   "source": [
    "# store the final answer in this variable\n",
    "number_of_sad_tweets = 0\n",
    "\n",
    "# perform the calculations here\n",
    "for tweet in tweets:\n",
    "  for sad_word in sad_words:\n",
    "    if sad_word in tweet:\n",
    "      number_of_sad_tweets+=1"
   ]
  },
  {
   "cell_type": "code",
   "execution_count": 50,
   "metadata": {
    "colab": {
     "base_uri": "https://localhost:8080/",
     "height": 35
    },
    "colab_type": "code",
    "executionInfo": {
     "elapsed": 812,
     "status": "ok",
     "timestamp": 1598687584417,
     "user": {
      "displayName": "Ankush Kulashri",
      "photoUrl": "https://lh4.googleusercontent.com/-uDXuncaw9Q8/AAAAAAAAAAI/AAAAAAAABBQ/0i_XWV50jgY/s64/photo.jpg",
      "userId": "07363556836472681627"
     },
     "user_tz": -330
    },
    "id": "6pey1twhihOy",
    "outputId": "45f304f2-a3b3-4f06-9397-a8731f0f0039"
   },
   "outputs": [
    {
     "name": "stdout",
     "output_type": "stream",
     "text": [
      "Number of sad tweets: 2\n"
     ]
    }
   ],
   "source": [
    "print(\"Number of sad tweets:\", number_of_sad_tweets)"
   ]
  },
  {
   "cell_type": "markdown",
   "metadata": {
    "colab_type": "text",
    "id": "7HH9jeW5ihO4"
   },
   "source": [
    "**Q: What fraction of the total number of tweets are sad?**"
   ]
  },
  {
   "cell_type": "code",
   "execution_count": 51,
   "metadata": {
    "colab": {},
    "colab_type": "code",
    "executionInfo": {
     "elapsed": 901,
     "status": "ok",
     "timestamp": 1598687589363,
     "user": {
      "displayName": "Ankush Kulashri",
      "photoUrl": "https://lh4.googleusercontent.com/-uDXuncaw9Q8/AAAAAAAAAAI/AAAAAAAABBQ/0i_XWV50jgY/s64/photo.jpg",
      "userId": "07363556836472681627"
     },
     "user_tz": -330
    },
    "id": "f930DNdwihO6"
   },
   "outputs": [],
   "source": [
    "sad_fraction = number_of_sad_tweets / number_of_tweets"
   ]
  },
  {
   "cell_type": "code",
   "execution_count": 52,
   "metadata": {
    "colab": {
     "base_uri": "https://localhost:8080/",
     "height": 35
    },
    "colab_type": "code",
    "executionInfo": {
     "elapsed": 844,
     "status": "ok",
     "timestamp": 1598687593599,
     "user": {
      "displayName": "Ankush Kulashri",
      "photoUrl": "https://lh4.googleusercontent.com/-uDXuncaw9Q8/AAAAAAAAAAI/AAAAAAAABBQ/0i_XWV50jgY/s64/photo.jpg",
      "userId": "07363556836472681627"
     },
     "user_tz": -330
    },
    "id": "WdqqEysZihO9",
    "outputId": "d2311724-0e09-49a3-da6c-9236d43a3380"
   },
   "outputs": [
    {
     "name": "stdout",
     "output_type": "stream",
     "text": [
      "The fraction of sad tweets is: 0.2\n"
     ]
    }
   ],
   "source": [
    "print(\"The fraction of sad tweets is:\", sad_fraction)"
   ]
  },
  {
   "cell_type": "markdown",
   "metadata": {
    "colab_type": "text",
    "id": "vkVndYabihO_"
   },
   "source": [
    "The rest of this problem is optional. Let's save your work before continuing."
   ]
  },
  {
   "cell_type": "code",
   "execution_count": 53,
   "metadata": {
    "colab": {
     "base_uri": "https://localhost:8080/",
     "height": 90
    },
    "colab_type": "code",
    "executionInfo": {
     "elapsed": 2919,
     "status": "ok",
     "timestamp": 1598687601902,
     "user": {
      "displayName": "Ankush Kulashri",
      "photoUrl": "https://lh4.googleusercontent.com/-uDXuncaw9Q8/AAAAAAAAAAI/AAAAAAAABBQ/0i_XWV50jgY/s64/photo.jpg",
      "userId": "07363556836472681627"
     },
     "user_tz": -330
    },
    "id": "B_6Q5lPSihO_",
    "outputId": "1096a28b-214a-4fb1-f0d6-fb4fab63aa8d"
   },
   "outputs": [
    {
     "name": "stdout",
     "output_type": "stream",
     "text": [
      "[jovian] Detected Colab notebook...\u001b[0m\n",
      "[jovian] Uploading colab notebook to Jovian...\u001b[0m\n",
      "[jovian] Committed successfully! https://jovian.ml/ankush-kulashri/python-practice-assignment\u001b[0m\n"
     ]
    },
    {
     "data": {
      "application/vnd.google.colaboratory.intrinsic+json": {
       "type": "string"
      },
      "text/plain": [
       "'https://jovian.ml/ankush-kulashri/python-practice-assignment'"
      ]
     },
     "execution_count": 53,
     "metadata": {
      "tags": []
     },
     "output_type": "execute_result"
    }
   ],
   "source": [
    "jovian.commit(project=project_name,environment=None)"
   ]
  },
  {
   "cell_type": "markdown",
   "metadata": {
    "colab_type": "text",
    "id": "-sZoGdxYihPB"
   },
   "source": [
    "Great work, even with some basic analysis, we already know a lot about the sentiment of the tweets given to us. Let us now define a metric called \"sentiment score\", to summarize the overall sentiment of the tweets.\n",
    "\n",
    "**Q (Optional): Calculate the sentiment score, which is defined as the difference betweek the fraction of happy tweets and the fraction of sad tweets.**"
   ]
  },
  {
   "cell_type": "code",
   "execution_count": 54,
   "metadata": {
    "colab": {},
    "colab_type": "code",
    "executionInfo": {
     "elapsed": 868,
     "status": "ok",
     "timestamp": 1598687606728,
     "user": {
      "displayName": "Ankush Kulashri",
      "photoUrl": "https://lh4.googleusercontent.com/-uDXuncaw9Q8/AAAAAAAAAAI/AAAAAAAABBQ/0i_XWV50jgY/s64/photo.jpg",
      "userId": "07363556836472681627"
     },
     "user_tz": -330
    },
    "id": "8sOFzY_lihPC"
   },
   "outputs": [],
   "source": [
    "sentiment_score = (happy_fraction - sad_fraction)"
   ]
  },
  {
   "cell_type": "code",
   "execution_count": 55,
   "metadata": {
    "colab": {
     "base_uri": "https://localhost:8080/",
     "height": 35
    },
    "colab_type": "code",
    "executionInfo": {
     "elapsed": 646,
     "status": "ok",
     "timestamp": 1598687609974,
     "user": {
      "displayName": "Ankush Kulashri",
      "photoUrl": "https://lh4.googleusercontent.com/-uDXuncaw9Q8/AAAAAAAAAAI/AAAAAAAABBQ/0i_XWV50jgY/s64/photo.jpg",
      "userId": "07363556836472681627"
     },
     "user_tz": -330
    },
    "id": "U4PCj_CXihPF",
    "outputId": "beb42d4a-16fd-4660-ffe6-bc77d3a9c1e4"
   },
   "outputs": [
    {
     "name": "stdout",
     "output_type": "stream",
     "text": [
      "The sentiment score for the given tweets is 0.39999999999999997\n"
     ]
    }
   ],
   "source": [
    "print(\"The sentiment score for the given tweets is\", sentiment_score)"
   ]
  },
  {
   "cell_type": "markdown",
   "metadata": {
    "colab_type": "text",
    "id": "2Ti0UoIvihPG"
   },
   "source": [
    "In a real world scenario, we could calculate & record the sentiment score for all the tweets sent out every day. This information can be used to plot a graph and study the trends in the changing sentiment of the world. The following graph was creating using the Python data visualization library `matplotlib`, which we'll cover later in the course.\n",
    "\n",
    "<img src=\"https://i.imgur.com/6CCIwCb.png\" style=\"width:400px\">\n",
    "\n",
    "What does the sentiment score represent? Based on the value of the sentiment score, can you identify if the overall sentiment of the dataset is happy or sad?\n",
    "\n",
    "**Q (Optional): Display whether the overall sentiment of the given dataset of tweets is happy or sad, using the sentiment score.**"
   ]
  },
  {
   "cell_type": "code",
   "execution_count": 56,
   "metadata": {
    "colab": {
     "base_uri": "https://localhost:8080/",
     "height": 35
    },
    "colab_type": "code",
    "executionInfo": {
     "elapsed": 872,
     "status": "ok",
     "timestamp": 1598687626985,
     "user": {
      "displayName": "Ankush Kulashri",
      "photoUrl": "https://lh4.googleusercontent.com/-uDXuncaw9Q8/AAAAAAAAAAI/AAAAAAAABBQ/0i_XWV50jgY/s64/photo.jpg",
      "userId": "07363556836472681627"
     },
     "user_tz": -330
    },
    "id": "GbCXs_zBihPH",
    "outputId": "8cac446c-1301-4e66-b71f-d8e005846d1b"
   },
   "outputs": [
    {
     "name": "stdout",
     "output_type": "stream",
     "text": [
      "The overall sentiment is happy\n"
     ]
    }
   ],
   "source": [
    "if sentiment_score>0:\n",
    "    print(\"The overall sentiment is happy\")\n",
    "else:\n",
    "    print(\"The overall sentiment is sad\")"
   ]
  },
  {
   "cell_type": "markdown",
   "metadata": {
    "colab_type": "text",
    "id": "5aGCcziZihPK"
   },
   "source": [
    "Finally, it's also important to track how many tweets are neutral i.e. neither happy nor sad. If a large fraction of tweets are marked neutral, maybe we need to improve our lists of happy and sad words. \n",
    "\n",
    "**Q (Optional): What is the fraction of tweets that are neutral i.e. neither happy nor sad.**"
   ]
  },
  {
   "cell_type": "code",
   "execution_count": 57,
   "metadata": {
    "colab": {},
    "colab_type": "code",
    "executionInfo": {
     "elapsed": 863,
     "status": "ok",
     "timestamp": 1598687631033,
     "user": {
      "displayName": "Ankush Kulashri",
      "photoUrl": "https://lh4.googleusercontent.com/-uDXuncaw9Q8/AAAAAAAAAAI/AAAAAAAABBQ/0i_XWV50jgY/s64/photo.jpg",
      "userId": "07363556836472681627"
     },
     "user_tz": -330
    },
    "id": "lrqpOUBAihPK"
   },
   "outputs": [],
   "source": [
    "# store the final answer in this variable\n",
    "number_of_neutral_tweets = 0\n",
    "\n",
    "# perform the calculation here\n",
    "number_of_neutral_tweets = number_of_tweets - (number_of_happy_tweets+number_of_sad_tweets)"
   ]
  },
  {
   "cell_type": "code",
   "execution_count": 59,
   "metadata": {
    "colab": {},
    "colab_type": "code",
    "executionInfo": {
     "elapsed": 857,
     "status": "ok",
     "timestamp": 1598687643833,
     "user": {
      "displayName": "Ankush Kulashri",
      "photoUrl": "https://lh4.googleusercontent.com/-uDXuncaw9Q8/AAAAAAAAAAI/AAAAAAAABBQ/0i_XWV50jgY/s64/photo.jpg",
      "userId": "07363556836472681627"
     },
     "user_tz": -330
    },
    "id": "ffK9TjoKihPL"
   },
   "outputs": [],
   "source": [
    "neutral_fraction = number_of_neutral_tweets / number_of_tweets"
   ]
  },
  {
   "cell_type": "code",
   "execution_count": 60,
   "metadata": {
    "colab": {
     "base_uri": "https://localhost:8080/",
     "height": 35
    },
    "colab_type": "code",
    "executionInfo": {
     "elapsed": 857,
     "status": "ok",
     "timestamp": 1598687650227,
     "user": {
      "displayName": "Ankush Kulashri",
      "photoUrl": "https://lh4.googleusercontent.com/-uDXuncaw9Q8/AAAAAAAAAAI/AAAAAAAABBQ/0i_XWV50jgY/s64/photo.jpg",
      "userId": "07363556836472681627"
     },
     "user_tz": -330
    },
    "id": "QTj9zetaihPN",
    "outputId": "f2d0811e-7aae-4fd1-8d01-48b8f8403a99"
   },
   "outputs": [
    {
     "name": "stdout",
     "output_type": "stream",
     "text": [
      "The fraction of neutral tweets is 0.2\n"
     ]
    }
   ],
   "source": [
    "print('The fraction of neutral tweets is', neutral_fraction)"
   ]
  },
  {
   "cell_type": "markdown",
   "metadata": {
    "colab_type": "text",
    "id": "zPKRwl4SihPP"
   },
   "source": [
    "Ponder upon these questions and try some experiments to hone your skills further:\n",
    "\n",
    "* What are the limitations of our approach? When will it go wrong or give incorrect results?\n",
    "* How can we improve our approach to address the limitations?\n",
    "* What are some other questions you would like to ask, given a list of tweets?\n",
    "* Try collecting some real tweets from your Twitter timeline and repeat this analysis. Do the results make sense?\n",
    "\n",
    "**IMPORTANT NOTE**: If you want to try out these experiments, please create a new notebook using the \"New Notebook\" button on your Jovian.ml profile, to avoid making unintended changes to your assignment submission notebook."
   ]
  },
  {
   "cell_type": "markdown",
   "metadata": {
    "colab_type": "text",
    "id": "nJm_SqgjihPP"
   },
   "source": [
    "## Submission \n",
    "\n",
    "Congratulations on making it this far! You've reached the end of this assignment, and you just completed your first data analysis problem. It's time to record one final version of your notebook for submission.\n",
    "\n",
    "Make a submission here by filling the submission form: https://jovian.ml/learn/data-analysis-with-python-zero-to-pandas/assignment/assignment-1-python-basics-practice"
   ]
  },
  {
   "cell_type": "code",
   "execution_count": null,
   "metadata": {
    "colab": {},
    "colab_type": "code",
    "id": "OZ0Nmc1EihPQ",
    "scrolled": false
   },
   "outputs": [],
   "source": [
    "jovian.commit(project=project_name,environment=None)"
   ]
  }
 ],
 "metadata": {
  "colab": {
   "name": "python-practice-assignment.ipynb",
   "provenance": []
  },
  "kernelspec": {
   "display_name": "Python 3",
   "language": "python",
   "name": "python3"
  },
  "language_info": {
   "codemirror_mode": {
    "name": "ipython",
    "version": 3
   },
   "file_extension": ".py",
   "mimetype": "text/x-python",
   "name": "python",
   "nbconvert_exporter": "python",
   "pygments_lexer": "ipython3",
   "version": "3.8.5"
  }
 },
 "nbformat": 4,
 "nbformat_minor": 0
}