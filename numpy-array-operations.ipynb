{
 "cells": [
  {
   "cell_type": "markdown",
   "metadata": {
    "colab_type": "text",
    "id": "3OFztK-vTjtK"
   },
   "source": [
    "# Some Basic Numpy Array Functions\n",
    "\n",
    "---\n",
    "- numpy.arange - Return evenly spaced values within a given interval.\n",
    "- numpy.reshape - Gives a new shape to an array without changing its data.\n",
    "- numpy.split - Split an array into multiple sub-arrays.\n",
    "- numpy.column_stack - Stack 1-D arrays as columns into a 2-D array.\n",
    "- numpy.concatenate - Join a sequence of arrays along an existing axis.\n"
   ]
  },
  {
   "cell_type": "code",
   "execution_count": 1,
   "metadata": {
    "colab": {},
    "colab_type": "code",
    "id": "oKrCX65vTjtQ"
   },
   "outputs": [],
   "source": [
    "!pip install jovian --upgrade -q"
   ]
  },
  {
   "cell_type": "code",
   "execution_count": 2,
   "metadata": {
    "colab": {},
    "colab_type": "code",
    "id": "3YqJZCJOTjta"
   },
   "outputs": [],
   "source": [
    "import jovian"
   ]
  },
  {
   "cell_type": "code",
   "execution_count": 3,
   "metadata": {
    "colab": {
     "base_uri": "https://localhost:8080/",
     "height": 127
    },
    "colab_type": "code",
    "executionInfo": {
     "elapsed": 16649,
     "status": "ok",
     "timestamp": 1600104025669,
     "user": {
      "displayName": "Ankush Kulashri",
      "photoUrl": "https://lh4.googleusercontent.com/-uDXuncaw9Q8/AAAAAAAAAAI/AAAAAAAABBQ/0i_XWV50jgY/s64/photo.jpg",
      "userId": "07363556836472681627"
     },
     "user_tz": -330
    },
    "id": "FldqWfWVTjtj",
    "outputId": "573e506e-238b-421e-c1ca-d7f2002aac20"
   },
   "outputs": [
    {
     "data": {
      "application/javascript": [
       "window.require && require([\"base/js/namespace\"],function(Jupyter){Jupyter.notebook.save_checkpoint()})"
      ],
      "text/plain": [
       "<IPython.core.display.Javascript object>"
      ]
     },
     "metadata": {},
     "output_type": "display_data"
    },
    {
     "name": "stdout",
     "output_type": "stream",
     "text": [
      "[jovian] Attempting to save notebook..\u001b[0m\n",
      "[jovian] Please enter your API key ( from https://jovian.ml/ ):\u001b[0m\n",
      "API KEY: ········\n",
      "[jovian] Updating notebook \"ankush-kulashri/numpy-array-operations\" on https://jovian.ml/\u001b[0m\n",
      "[jovian] Uploading notebook..\u001b[0m\n",
      "[jovian] Capturing environment..\u001b[0m\n",
      "[jovian] Committed successfully! https://jovian.ml/ankush-kulashri/numpy-array-operations\u001b[0m\n"
     ]
    },
    {
     "data": {
      "text/plain": [
       "'https://jovian.ml/ankush-kulashri/numpy-array-operations'"
      ]
     },
     "execution_count": 3,
     "metadata": {},
     "output_type": "execute_result"
    }
   ],
   "source": [
    "jovian.commit(project='numpy-array-operations')"
   ]
  },
  {
   "cell_type": "markdown",
   "metadata": {
    "colab_type": "text",
    "id": "xhS41614Tjts"
   },
   "source": [
    "Let's begin by importing Numpy and listing out the functions covered in this notebook."
   ]
  },
  {
   "cell_type": "code",
   "execution_count": null,
   "metadata": {
    "colab": {},
    "colab_type": "code",
    "id": "eviN0BtsTjtu"
   },
   "outputs": [],
   "source": [
    "import numpy as np"
   ]
  },
  {
   "cell_type": "code",
   "execution_count": null,
   "metadata": {
    "colab": {},
    "colab_type": "code",
    "id": "e8HbTPQtTjt1"
   },
   "outputs": [],
   "source": [
    "Function 1 = numpy.arange\n",
    "Function 2 = numpy.reshape\n",
    "Function 3 = numpy.split\n",
    "Function 4 = numpy.column_stack\n",
    "Function 5 = numpy.concatenate"
   ]
  },
  {
   "cell_type": "markdown",
   "metadata": {
    "colab_type": "text",
    "id": "PUEtx_QHTjt7"
   },
   "source": [
    "## Function 1 - numpy.arange\n",
    "\n",
    "This functions or routine, generates or returns evenly spaced numbers in the given interval"
   ]
  },
  {
   "cell_type": "code",
   "execution_count": null,
   "metadata": {
    "colab": {
     "base_uri": "https://localhost:8080/",
     "height": 144
    },
    "colab_type": "code",
    "executionInfo": {
     "elapsed": 853,
     "status": "ok",
     "timestamp": 1600102033240,
     "user": {
      "displayName": "Ankush Kulashri",
      "photoUrl": "https://lh4.googleusercontent.com/-uDXuncaw9Q8/AAAAAAAAAAI/AAAAAAAABBQ/0i_XWV50jgY/s64/photo.jpg",
      "userId": "07363556836472681627"
     },
     "user_tz": -330
    },
    "id": "5r4KN5dLTjt8",
    "outputId": "2fd3ad8c-fbcd-49cf-f923-419e86de633f"
   },
   "outputs": [
    {
     "name": "stdout",
     "output_type": "stream",
     "text": [
      "X contains:[0.  0.1 0.2 0.3 0.4 0.5 0.6 0.7 0.8 0.9 1.  1.1 1.2 1.3 1.4 1.5 1.6 1.7\n",
      " 1.8 1.9 2.  2.1 2.2 2.3 2.4 2.5 2.6 2.7 2.8 2.9 3.  3.1 3.2 3.3 3.4 3.5\n",
      " 3.6 3.7 3.8 3.9 4.  4.1 4.2 4.3 4.4 4.5 4.6 4.7 4.8 4.9 5.  5.1 5.2 5.3\n",
      " 5.4 5.5 5.6 5.7 5.8 5.9 6.  6.1 6.2 6.3 6.4 6.5 6.6 6.7 6.8 6.9 7.  7.1\n",
      " 7.2 7.3 7.4 7.5 7.6 7.7 7.8 7.9 8.  8.1 8.2 8.3 8.4 8.5 8.6 8.7 8.8 8.9\n",
      " 9.  9.1 9.2 9.3 9.4 9.5 9.6 9.7 9.8 9.9], and has total of 100 elements.\n",
      "\n"
     ]
    }
   ],
   "source": [
    "# Example 1\n",
    "x = np.arange(0,10,0.1)\n",
    "\n",
    "print(\"X contains:{}, and has total of {} elements.\\n\".format(x,len(x)))"
   ]
  },
  {
   "cell_type": "markdown",
   "metadata": {
    "colab_type": "text",
    "id": "unOLI9LXTjuH"
   },
   "source": [
    "Here we have used ***arange*** to generate evenly spaced numbers from 0 to 10  with a common difference of 0.1 and since we've provided 10 as upper limit, it is not included in the array.\n",
    "In function, first argument is 0 which is initial value we will have our array.\n",
    "Second arguement is the upper limit.\n",
    "Third arguement is used to determine total size of the array."
   ]
  },
  {
   "cell_type": "code",
   "execution_count": null,
   "metadata": {
    "colab": {
     "base_uri": "https://localhost:8080/",
     "height": 53
    },
    "colab_type": "code",
    "executionInfo": {
     "elapsed": 955,
     "status": "ok",
     "timestamp": 1600103148346,
     "user": {
      "displayName": "Ankush Kulashri",
      "photoUrl": "https://lh4.googleusercontent.com/-uDXuncaw9Q8/AAAAAAAAAAI/AAAAAAAABBQ/0i_XWV50jgY/s64/photo.jpg",
      "userId": "07363556836472681627"
     },
     "user_tz": -330
    },
    "id": "gY22bOHKTjuH",
    "outputId": "5b4025b9-95dc-4937-c90c-1a8bc44f3eb9"
   },
   "outputs": [
    {
     "name": "stdout",
     "output_type": "stream",
     "text": [
      "Y contains:[10  9  8  7  6  5  4  3  2], and has total of 9 elements.\n",
      "\n"
     ]
    }
   ],
   "source": [
    "# Example 2\n",
    "y=np.arange(10,1,-1)\n",
    "\n",
    "print(\"Y contains:{}, and has total of {} elements.\\n\".format(y,len(y)))"
   ]
  },
  {
   "cell_type": "markdown",
   "metadata": {
    "colab_type": "text",
    "id": "MX0skwxpTjuN"
   },
   "source": [
    "This example is similar to previous one but, here we are generating a array in reverse, ie. in decreasing order"
   ]
  },
  {
   "cell_type": "code",
   "execution_count": null,
   "metadata": {
    "colab": {
     "base_uri": "https://localhost:8080/",
     "height": 207
    },
    "colab_type": "code",
    "executionInfo": {
     "elapsed": 1191,
     "status": "error",
     "timestamp": 1600139053155,
     "user": {
      "displayName": "Ankush Kulashri",
      "photoUrl": "https://lh4.googleusercontent.com/-uDXuncaw9Q8/AAAAAAAAAAI/AAAAAAAABBQ/0i_XWV50jgY/s64/photo.jpg",
      "userId": "07363556836472681627"
     },
     "user_tz": -330
    },
    "id": "KJdLO3-dTjuO",
    "outputId": "71e1a8ad-f1bc-478f-e4b2-0b911b5f5390"
   },
   "outputs": [
    {
     "ename": "TypeError",
     "evalue": "ignored",
     "output_type": "error",
     "traceback": [
      "\u001b[0;31m---------------------------------------------------------------------------\u001b[0m",
      "\u001b[0;31mTypeError\u001b[0m                                 Traceback (most recent call last)",
      "\u001b[0;32m<ipython-input-13-21fdf401d173>\u001b[0m in \u001b[0;36m<module>\u001b[0;34m()\u001b[0m\n\u001b[1;32m      1\u001b[0m \u001b[0;31m# Example 3 - breaking (to illustrate when it breaks)\u001b[0m\u001b[0;34m\u001b[0m\u001b[0;34m\u001b[0m\u001b[0;34m\u001b[0m\u001b[0m\n\u001b[1;32m      2\u001b[0m \u001b[0mz\u001b[0m\u001b[0;34m=\u001b[0m \u001b[0mnp\u001b[0m\u001b[0;34m.\u001b[0m\u001b[0marange\u001b[0m\u001b[0;34m(\u001b[0m\u001b[0mstart\u001b[0m\u001b[0;34m=\u001b[0m\u001b[0;36m0\u001b[0m\u001b[0;34m)\u001b[0m\u001b[0;34m\u001b[0m\u001b[0;34m\u001b[0m\u001b[0m\n\u001b[0;32m----> 3\u001b[0;31m \u001b[0mz\u001b[0m\u001b[0;34m=\u001b[0m \u001b[0mnp\u001b[0m\u001b[0;34m.\u001b[0m\u001b[0marange\u001b[0m\u001b[0;34m(\u001b[0m\u001b[0mstop\u001b[0m\u001b[0;34m=\u001b[0m\u001b[0;36m10\u001b[0m\u001b[0;34m)\u001b[0m\u001b[0;34m\u001b[0m\u001b[0;34m\u001b[0m\u001b[0m\n\u001b[0m",
      "\u001b[0;31mTypeError\u001b[0m: Required argument 'start' (pos 1) not found"
     ]
    }
   ],
   "source": [
    "# Example 3 - breaking (to illustrate when it breaks)\n",
    "z= np.arange(start=0)\n",
    "z= np.arange(stop=10)"
   ]
  },
  {
   "cell_type": "markdown",
   "metadata": {
    "colab_type": "text",
    "id": "L2BjZxVBTjuT"
   },
   "source": [
    "Program breaks because in ***arange*** function we can give one arguement but that has to be only for 'start' ie first arguement.\n",
    "In simpler words we need to pass two arguements if we want to include 'stop' or second arguement.\n",
    "\n",
    "eg. np.arange(0,10) will generate array of 10 elements starting from 0 to 9, also step value or difference between any two consecutive elements in this case is 1."
   ]
  },
  {
   "cell_type": "markdown",
   "metadata": {
    "colab_type": "text",
    "id": "qgk74ymuTjuV"
   },
   "source": [
    "It is useful when our requirement to generate elements in array is of indices."
   ]
  },
  {
   "cell_type": "code",
   "execution_count": null,
   "metadata": {
    "colab": {
     "base_uri": "https://localhost:8080/",
     "height": 127
    },
    "colab_type": "code",
    "executionInfo": {
     "elapsed": 15683,
     "status": "ok",
     "timestamp": 1600139712022,
     "user": {
      "displayName": "Ankush Kulashri",
      "photoUrl": "https://lh4.googleusercontent.com/-uDXuncaw9Q8/AAAAAAAAAAI/AAAAAAAABBQ/0i_XWV50jgY/s64/photo.jpg",
      "userId": "07363556836472681627"
     },
     "user_tz": -330
    },
    "id": "RpfjumheTjuW",
    "outputId": "0dae4ff7-d63d-46c9-f7c8-3eb08f4ae753"
   },
   "outputs": [
    {
     "name": "stdout",
     "output_type": "stream",
     "text": [
      "[jovian] Detected Colab notebook...\u001b[0m\n",
      "[jovian] Please enter your API key ( from https://jovian.ml/ ):\u001b[0m\n",
      "API KEY: ··········\n",
      "[jovian] Uploading colab notebook to Jovian...\u001b[0m\n",
      "[jovian] Committed successfully! https://jovian.ml/ankush-kulashri/numpy-array-operations\u001b[0m\n"
     ]
    },
    {
     "data": {
      "application/vnd.google.colaboratory.intrinsic+json": {
       "type": "string"
      },
      "text/plain": [
       "'https://jovian.ml/ankush-kulashri/numpy-array-operations'"
      ]
     },
     "execution_count": 14,
     "metadata": {
      "tags": []
     },
     "output_type": "execute_result"
    }
   ],
   "source": [
    "jovian.commit(project='numpy-array-operations')"
   ]
  },
  {
   "cell_type": "markdown",
   "metadata": {
    "colab_type": "text",
    "id": "pImrBzhtTjub"
   },
   "source": [
    "## Function 2 - numpy.reshape\n",
    "\n",
    "Reshapes an array in to desired dimension"
   ]
  },
  {
   "cell_type": "code",
   "execution_count": null,
   "metadata": {
    "colab": {
     "base_uri": "https://localhost:8080/",
     "height": 144
    },
    "colab_type": "code",
    "executionInfo": {
     "elapsed": 1132,
     "status": "ok",
     "timestamp": 1600140538584,
     "user": {
      "displayName": "Ankush Kulashri",
      "photoUrl": "https://lh4.googleusercontent.com/-uDXuncaw9Q8/AAAAAAAAAAI/AAAAAAAABBQ/0i_XWV50jgY/s64/photo.jpg",
      "userId": "07363556836472681627"
     },
     "user_tz": -330
    },
    "id": "i5IXuaOjTjuc",
    "outputId": "1eb05ca1-9ca9-4502-8fff-451f426a0f03"
   },
   "outputs": [
    {
     "name": "stdout",
     "output_type": "stream",
     "text": [
      "Original Array:\n",
      "[ 0  1  2  3  4  5  6  7  8  9 10 11 12 13 14 15]\n",
      "Reshaped Array:\n",
      "[[ 0  1  2  3]\n",
      " [ 4  5  6  7]\n",
      " [ 8  9 10 11]\n",
      " [12 13 14 15]]\n"
     ]
    }
   ],
   "source": [
    "# Example 1 - working\n",
    "org_a = np.arange(0,16)\n",
    "res_a = org_a.reshape(4,4)\n",
    "\n",
    "print(\"Original Array:\\n{}\\nReshaped Array:\\n{}\".format(org_a,res_a))"
   ]
  },
  {
   "cell_type": "markdown",
   "metadata": {
    "colab_type": "text",
    "id": "j7ds81UGTjuj"
   },
   "source": [
    "Here the array of 1X16 is reshaped to 4X4 array"
   ]
  },
  {
   "cell_type": "code",
   "execution_count": null,
   "metadata": {
    "colab": {
     "base_uri": "https://localhost:8080/",
     "height": 181
    },
    "colab_type": "code",
    "executionInfo": {
     "elapsed": 1175,
     "status": "ok",
     "timestamp": 1600140736387,
     "user": {
      "displayName": "Ankush Kulashri",
      "photoUrl": "https://lh4.googleusercontent.com/-uDXuncaw9Q8/AAAAAAAAAAI/AAAAAAAABBQ/0i_XWV50jgY/s64/photo.jpg",
      "userId": "07363556836472681627"
     },
     "user_tz": -330
    },
    "id": "ukxteRHhTjuk",
    "outputId": "97f9fd11-76d6-48fb-df8a-7edb9ebadc01"
   },
   "outputs": [
    {
     "name": "stdout",
     "output_type": "stream",
     "text": [
      "Final Reshaped Array:\n",
      "[[ 0  1]\n",
      " [ 2  3]\n",
      " [ 4  5]\n",
      " [ 6  7]\n",
      " [ 8  9]\n",
      " [10 11]\n",
      " [12 13]\n",
      " [14 15]]\n"
     ]
    }
   ],
   "source": [
    "# Example 2 - working\n",
    "res_b = res_a.reshape(8,2)\n",
    "print(\"Final Reshaped Array:\\n{}\".format(res_b))"
   ]
  },
  {
   "cell_type": "markdown",
   "metadata": {
    "colab_type": "text",
    "id": "Y4WQtZiFTjuo"
   },
   "source": [
    "Here array is reshaped from 4X4 to 8X2"
   ]
  },
  {
   "cell_type": "code",
   "execution_count": null,
   "metadata": {
    "colab": {
     "base_uri": "https://localhost:8080/",
     "height": 189
    },
    "colab_type": "code",
    "executionInfo": {
     "elapsed": 1130,
     "status": "error",
     "timestamp": 1600140799941,
     "user": {
      "displayName": "Ankush Kulashri",
      "photoUrl": "https://lh4.googleusercontent.com/-uDXuncaw9Q8/AAAAAAAAAAI/AAAAAAAABBQ/0i_XWV50jgY/s64/photo.jpg",
      "userId": "07363556836472681627"
     },
     "user_tz": -330
    },
    "id": "gm19DC8ETjup",
    "outputId": "4015491a-4607-4858-9cf0-3545c3192ba0"
   },
   "outputs": [
    {
     "ename": "ValueError",
     "evalue": "ignored",
     "output_type": "error",
     "traceback": [
      "\u001b[0;31m---------------------------------------------------------------------------\u001b[0m",
      "\u001b[0;31mValueError\u001b[0m                                Traceback (most recent call last)",
      "\u001b[0;32m<ipython-input-19-3c29daae1b6a>\u001b[0m in \u001b[0;36m<module>\u001b[0;34m()\u001b[0m\n\u001b[1;32m      1\u001b[0m \u001b[0;31m# Example 3 - breaking (to illustrate when it breaks)\u001b[0m\u001b[0;34m\u001b[0m\u001b[0;34m\u001b[0m\u001b[0;34m\u001b[0m\u001b[0m\n\u001b[0;32m----> 2\u001b[0;31m \u001b[0mres_c\u001b[0m \u001b[0;34m=\u001b[0m \u001b[0mres_b\u001b[0m\u001b[0;34m.\u001b[0m\u001b[0mreshape\u001b[0m\u001b[0;34m(\u001b[0m\u001b[0;36m4\u001b[0m\u001b[0;34m,\u001b[0m\u001b[0;36m2\u001b[0m\u001b[0;34m)\u001b[0m\u001b[0;34m\u001b[0m\u001b[0;34m\u001b[0m\u001b[0m\n\u001b[0m",
      "\u001b[0;31mValueError\u001b[0m: cannot reshape array of size 16 into shape (4,2)"
     ]
    }
   ],
   "source": [
    "# Example 3 - breaking (to illustrate when it breaks)\n",
    "res_c = res_b.reshape(4,2)\n"
   ]
  },
  {
   "cell_type": "markdown",
   "metadata": {
    "colab_type": "text",
    "id": "S4CiBaCjTjuu"
   },
   "source": [
    "This program breaks because array formed before and after reshape must have equal number of elements, as our original array has 16 elements so to reshape it we either need to add or delete some elements.\n",
    "eg. if we want to reshape a 16 elementa array into 4X2 array then , we would need to split that array in two 8 elements array each to be reshaped in 4X2.\n",
    "\n",
    "We can use numpy's split() to divide array in n number of equal parts"
   ]
  },
  {
   "cell_type": "markdown",
   "metadata": {
    "colab_type": "text",
    "id": "2m7ZodSTTjuv"
   },
   "source": [
    "This approach is useful when data is huge any we want to divide it in several parts to process it efficiently"
   ]
  },
  {
   "cell_type": "code",
   "execution_count": null,
   "metadata": {
    "colab": {
     "base_uri": "https://localhost:8080/",
     "height": 90
    },
    "colab_type": "code",
    "executionInfo": {
     "elapsed": 3616,
     "status": "ok",
     "timestamp": 1600141481746,
     "user": {
      "displayName": "Ankush Kulashri",
      "photoUrl": "https://lh4.googleusercontent.com/-uDXuncaw9Q8/AAAAAAAAAAI/AAAAAAAABBQ/0i_XWV50jgY/s64/photo.jpg",
      "userId": "07363556836472681627"
     },
     "user_tz": -330
    },
    "id": "8R00-ZhsTjuw",
    "outputId": "3028c2dd-d4c8-4ee8-af09-5269fae4f356"
   },
   "outputs": [
    {
     "name": "stdout",
     "output_type": "stream",
     "text": [
      "[jovian] Detected Colab notebook...\u001b[0m\n",
      "[jovian] Uploading colab notebook to Jovian...\u001b[0m\n",
      "[jovian] Committed successfully! https://jovian.ml/ankush-kulashri/numpy-array-operations\u001b[0m\n"
     ]
    },
    {
     "data": {
      "application/vnd.google.colaboratory.intrinsic+json": {
       "type": "string"
      },
      "text/plain": [
       "'https://jovian.ml/ankush-kulashri/numpy-array-operations'"
      ]
     },
     "execution_count": 22,
     "metadata": {
      "tags": []
     },
     "output_type": "execute_result"
    }
   ],
   "source": [
    "jovian.commit(project='numpy-array-operations')"
   ]
  },
  {
   "cell_type": "markdown",
   "metadata": {
    "colab_type": "text",
    "id": "2Bc5Now9Tju1"
   },
   "source": [
    "## Function 3 - numpy.split\n",
    "\n",
    "Splitting an array in equal parts"
   ]
  },
  {
   "cell_type": "code",
   "execution_count": null,
   "metadata": {
    "colab": {
     "base_uri": "https://localhost:8080/",
     "height": 90
    },
    "colab_type": "code",
    "executionInfo": {
     "elapsed": 1036,
     "status": "ok",
     "timestamp": 1600141649425,
     "user": {
      "displayName": "Ankush Kulashri",
      "photoUrl": "https://lh4.googleusercontent.com/-uDXuncaw9Q8/AAAAAAAAAAI/AAAAAAAABBQ/0i_XWV50jgY/s64/photo.jpg",
      "userId": "07363556836472681627"
     },
     "user_tz": -330
    },
    "id": "oGqij0XrTju1",
    "outputId": "4d278748-f75a-44d0-d2d1-163e353941e0"
   },
   "outputs": [
    {
     "data": {
      "text/plain": [
       "[array([0, 1, 2, 3]),\n",
       " array([4, 5, 6, 7]),\n",
       " array([ 8,  9, 10, 11]),\n",
       " array([12, 13, 14, 15])]"
      ]
     },
     "execution_count": 26,
     "metadata": {
      "tags": []
     },
     "output_type": "execute_result"
    }
   ],
   "source": [
    "# Example 1 - working\n",
    "split_org = np.split(org_a,4)\n",
    "split_org"
   ]
  },
  {
   "cell_type": "markdown",
   "metadata": {
    "colab_type": "text",
    "id": "Or-OX41eTju6"
   },
   "source": [
    "Splitting an array in 4 equal parts"
   ]
  },
  {
   "cell_type": "code",
   "execution_count": null,
   "metadata": {
    "colab": {
     "base_uri": "https://localhost:8080/",
     "height": 90
    },
    "colab_type": "code",
    "executionInfo": {
     "elapsed": 1304,
     "status": "ok",
     "timestamp": 1600143067859,
     "user": {
      "displayName": "Ankush Kulashri",
      "photoUrl": "https://lh4.googleusercontent.com/-uDXuncaw9Q8/AAAAAAAAAAI/AAAAAAAABBQ/0i_XWV50jgY/s64/photo.jpg",
      "userId": "07363556836472681627"
     },
     "user_tz": -330
    },
    "id": "0hXkgF1MTju6",
    "outputId": "98ba4bdc-da46-4a03-b589-bef7a10b651b"
   },
   "outputs": [
    {
     "data": {
      "text/plain": [
       "[array([[0, 1, 2, 3]]),\n",
       " array([[4, 5, 6, 7]]),\n",
       " array([[ 8,  9, 10, 11]]),\n",
       " array([[12, 13, 14, 15]])]"
      ]
     },
     "execution_count": 38,
     "metadata": {
      "tags": []
     },
     "output_type": "execute_result"
    }
   ],
   "source": [
    "# Example 2 - working\n",
    "split_res_a = np.split(res_a,4)\n",
    "split_res_a"
   ]
  },
  {
   "cell_type": "markdown",
   "metadata": {
    "colab_type": "text",
    "id": "ft_YTZEqTju_"
   },
   "source": [
    "Splitting a 4X4 array in 4 equal parts"
   ]
  },
  {
   "cell_type": "code",
   "execution_count": null,
   "metadata": {
    "colab": {
     "base_uri": "https://localhost:8080/",
     "height": 485
    },
    "colab_type": "code",
    "executionInfo": {
     "elapsed": 1178,
     "status": "error",
     "timestamp": 1600141880695,
     "user": {
      "displayName": "Ankush Kulashri",
      "photoUrl": "https://lh4.googleusercontent.com/-uDXuncaw9Q8/AAAAAAAAAAI/AAAAAAAABBQ/0i_XWV50jgY/s64/photo.jpg",
      "userId": "07363556836472681627"
     },
     "user_tz": -330
    },
    "id": "p0Gs1kw9Tju_",
    "outputId": "49bb1b14-5008-463b-b501-abd6d018f10c"
   },
   "outputs": [
    {
     "ename": "ValueError",
     "evalue": "ignored",
     "output_type": "error",
     "traceback": [
      "\u001b[0;31m---------------------------------------------------------------------------\u001b[0m",
      "\u001b[0;31mTypeError\u001b[0m                                 Traceback (most recent call last)",
      "\u001b[0;32m/usr/local/lib/python3.6/dist-packages/numpy/lib/shape_base.py\u001b[0m in \u001b[0;36msplit\u001b[0;34m(ary, indices_or_sections, axis)\u001b[0m\n\u001b[1;32m    864\u001b[0m     \u001b[0;32mtry\u001b[0m\u001b[0;34m:\u001b[0m\u001b[0;34m\u001b[0m\u001b[0;34m\u001b[0m\u001b[0m\n\u001b[0;32m--> 865\u001b[0;31m         \u001b[0mlen\u001b[0m\u001b[0;34m(\u001b[0m\u001b[0mindices_or_sections\u001b[0m\u001b[0;34m)\u001b[0m\u001b[0;34m\u001b[0m\u001b[0;34m\u001b[0m\u001b[0m\n\u001b[0m\u001b[1;32m    866\u001b[0m     \u001b[0;32mexcept\u001b[0m \u001b[0mTypeError\u001b[0m\u001b[0;34m:\u001b[0m\u001b[0;34m\u001b[0m\u001b[0;34m\u001b[0m\u001b[0m\n",
      "\u001b[0;31mTypeError\u001b[0m: object of type 'int' has no len()",
      "\nDuring handling of the above exception, another exception occurred:\n",
      "\u001b[0;31mValueError\u001b[0m                                Traceback (most recent call last)",
      "\u001b[0;32m<ipython-input-33-5efe018166a8>\u001b[0m in \u001b[0;36m<module>\u001b[0;34m()\u001b[0m\n\u001b[1;32m      1\u001b[0m \u001b[0;31m# Example 3 - breaking (to illustrate when it breaks)\u001b[0m\u001b[0;34m\u001b[0m\u001b[0;34m\u001b[0m\u001b[0;34m\u001b[0m\u001b[0m\n\u001b[0;32m----> 2\u001b[0;31m \u001b[0msplit\u001b[0m \u001b[0;34m=\u001b[0m \u001b[0mnp\u001b[0m\u001b[0;34m.\u001b[0m\u001b[0msplit\u001b[0m\u001b[0;34m(\u001b[0m\u001b[0mres_a\u001b[0m\u001b[0;34m,\u001b[0m\u001b[0;36m3\u001b[0m\u001b[0;34m)\u001b[0m\u001b[0;34m\u001b[0m\u001b[0;34m\u001b[0m\u001b[0m\n\u001b[0m",
      "\u001b[0;32m<__array_function__ internals>\u001b[0m in \u001b[0;36msplit\u001b[0;34m(*args, **kwargs)\u001b[0m\n",
      "\u001b[0;32m/usr/local/lib/python3.6/dist-packages/numpy/lib/shape_base.py\u001b[0m in \u001b[0;36msplit\u001b[0;34m(ary, indices_or_sections, axis)\u001b[0m\n\u001b[1;32m    869\u001b[0m         \u001b[0;32mif\u001b[0m \u001b[0mN\u001b[0m \u001b[0;34m%\u001b[0m \u001b[0msections\u001b[0m\u001b[0;34m:\u001b[0m\u001b[0;34m\u001b[0m\u001b[0;34m\u001b[0m\u001b[0m\n\u001b[1;32m    870\u001b[0m             raise ValueError(\n\u001b[0;32m--> 871\u001b[0;31m                 'array split does not result in an equal division')\n\u001b[0m\u001b[1;32m    872\u001b[0m     \u001b[0;32mreturn\u001b[0m \u001b[0marray_split\u001b[0m\u001b[0;34m(\u001b[0m\u001b[0mary\u001b[0m\u001b[0;34m,\u001b[0m \u001b[0mindices_or_sections\u001b[0m\u001b[0;34m,\u001b[0m \u001b[0maxis\u001b[0m\u001b[0;34m)\u001b[0m\u001b[0;34m\u001b[0m\u001b[0;34m\u001b[0m\u001b[0m\n\u001b[1;32m    873\u001b[0m \u001b[0;34m\u001b[0m\u001b[0m\n",
      "\u001b[0;31mValueError\u001b[0m: array split does not result in an equal division"
     ]
    }
   ],
   "source": [
    "# Example 3 - breaking (to illustrate when it breaks)\n",
    "split = np.split(res_a,3)"
   ]
  },
  {
   "cell_type": "markdown",
   "metadata": {
    "colab_type": "text",
    "id": "OxGCC1x8TjvD"
   },
   "source": [
    "Program breaks because function cannot divide 16 elements in 3 equal parts, we can resolve it either by adding or deleting elements in the array to match it with the resulting array."
   ]
  },
  {
   "cell_type": "code",
   "execution_count": null,
   "metadata": {
    "colab": {
     "base_uri": "https://localhost:8080/",
     "height": 90
    },
    "colab_type": "code",
    "executionInfo": {
     "elapsed": 4372,
     "status": "ok",
     "timestamp": 1600142213128,
     "user": {
      "displayName": "Ankush Kulashri",
      "photoUrl": "https://lh4.googleusercontent.com/-uDXuncaw9Q8/AAAAAAAAAAI/AAAAAAAABBQ/0i_XWV50jgY/s64/photo.jpg",
      "userId": "07363556836472681627"
     },
     "user_tz": -330
    },
    "id": "Azp34hyDTjvF",
    "outputId": "4b458036-45cc-46b0-a05d-fa12f5b6bf72"
   },
   "outputs": [
    {
     "name": "stdout",
     "output_type": "stream",
     "text": [
      "[jovian] Detected Colab notebook...\u001b[0m\n",
      "[jovian] Uploading colab notebook to Jovian...\u001b[0m\n",
      "[jovian] Committed successfully! https://jovian.ml/ankush-kulashri/numpy-array-operations\u001b[0m\n"
     ]
    },
    {
     "data": {
      "application/vnd.google.colaboratory.intrinsic+json": {
       "type": "string"
      },
      "text/plain": [
       "'https://jovian.ml/ankush-kulashri/numpy-array-operations'"
      ]
     },
     "execution_count": 35,
     "metadata": {
      "tags": []
     },
     "output_type": "execute_result"
    }
   ],
   "source": [
    "jovian.commit(project='numpy-array-operations')"
   ]
  },
  {
   "cell_type": "markdown",
   "metadata": {
    "colab_type": "text",
    "id": "JrNK83TXTjvi"
   },
   "source": [
    "## Function 4 - numpy.column_stack\n",
    "\n",
    "This function arranges two or more 1D array of equal size as a column stack ie each array passed as arguement are arranged as column for the new 2D array"
   ]
  },
  {
   "cell_type": "code",
   "execution_count": null,
   "metadata": {
    "colab": {
     "base_uri": "https://localhost:8080/",
     "height": 90
    },
    "colab_type": "code",
    "executionInfo": {
     "elapsed": 1100,
     "status": "ok",
     "timestamp": 1600143286551,
     "user": {
      "displayName": "Ankush Kulashri",
      "photoUrl": "https://lh4.googleusercontent.com/-uDXuncaw9Q8/AAAAAAAAAAI/AAAAAAAABBQ/0i_XWV50jgY/s64/photo.jpg",
      "userId": "07363556836472681627"
     },
     "user_tz": -330
    },
    "id": "bAaS48WNTjvj",
    "outputId": "0199851a-2759-4b8a-c1ce-1e32ee09f0a4"
   },
   "outputs": [
    {
     "data": {
      "text/plain": [
       "array([[ 0,  4,  8, 12],\n",
       "       [ 1,  5,  9, 13],\n",
       "       [ 2,  6, 10, 14],\n",
       "       [ 3,  7, 11, 15]])"
      ]
     },
     "execution_count": 50,
     "metadata": {
      "tags": []
     },
     "output_type": "execute_result"
    }
   ],
   "source": [
    "# Example 1 - working\n",
    "col1 = np.arange(0,4)\n",
    "col2 = np.arange(4,8)\n",
    "col3 = np.arange(8,12)\n",
    "col4 = np.arange(12,16)\n",
    "\n",
    "col = np.column_stack((col1,col2,col3,col4))\n",
    "col"
   ]
  },
  {
   "cell_type": "markdown",
   "metadata": {
    "colab_type": "text",
    "id": "bL70Zl8mTjvl"
   },
   "source": [
    "Here we have formed a column stack of our arrays"
   ]
  },
  {
   "cell_type": "code",
   "execution_count": null,
   "metadata": {
    "colab": {
     "base_uri": "https://localhost:8080/",
     "height": 53
    },
    "colab_type": "code",
    "executionInfo": {
     "elapsed": 665,
     "status": "ok",
     "timestamp": 1600143640894,
     "user": {
      "displayName": "Ankush Kulashri",
      "photoUrl": "https://lh4.googleusercontent.com/-uDXuncaw9Q8/AAAAAAAAAAI/AAAAAAAABBQ/0i_XWV50jgY/s64/photo.jpg",
      "userId": "07363556836472681627"
     },
     "user_tz": -330
    },
    "id": "vZnhpKgFTjvm",
    "outputId": "e8c2c273-6160-440a-f3a1-1a727c045e59"
   },
   "outputs": [
    {
     "name": "stdout",
     "output_type": "stream",
     "text": [
      "[[3 4 0 1]\n",
      " [5 6 2 3]]\n"
     ]
    }
   ],
   "source": [
    "# Example 2 - working\n",
    "sta1 = np.arange(3,7).reshape(2,2)\n",
    "sta2 = np.arange(0,4).reshape(2,2)\n",
    "print(np.column_stack((sta1,sta2)))"
   ]
  },
  {
   "cell_type": "markdown",
   "metadata": {
    "colab_type": "text",
    "id": "Z_ActctWTjvq"
   },
   "source": [
    "This is similar to above example, but here we've reshaped it to 2X2 then stacked them."
   ]
  },
  {
   "cell_type": "code",
   "execution_count": null,
   "metadata": {
    "colab": {
     "base_uri": "https://localhost:8080/",
     "height": 425
    },
    "colab_type": "code",
    "executionInfo": {
     "elapsed": 1102,
     "status": "error",
     "timestamp": 1600143853773,
     "user": {
      "displayName": "Ankush Kulashri",
      "photoUrl": "https://lh4.googleusercontent.com/-uDXuncaw9Q8/AAAAAAAAAAI/AAAAAAAABBQ/0i_XWV50jgY/s64/photo.jpg",
      "userId": "07363556836472681627"
     },
     "user_tz": -330
    },
    "id": "Ko3afAIsTjvq",
    "outputId": "8fda444b-249c-426c-9e05-fb51ac86f3d4"
   },
   "outputs": [
    {
     "ename": "ValueError",
     "evalue": "ignored",
     "output_type": "error",
     "traceback": [
      "\u001b[0;31m---------------------------------------------------------------------------\u001b[0m",
      "\u001b[0;31mValueError\u001b[0m                                Traceback (most recent call last)",
      "\u001b[0;32m<ipython-input-62-73fca91f418c>\u001b[0m in \u001b[0;36m<module>\u001b[0;34m()\u001b[0m\n\u001b[1;32m      1\u001b[0m \u001b[0;31m# Example 3 - breaking (to illustrate when it breaks)\u001b[0m\u001b[0;34m\u001b[0m\u001b[0;34m\u001b[0m\u001b[0;34m\u001b[0m\u001b[0m\n\u001b[1;32m      2\u001b[0m \u001b[0mcol5\u001b[0m \u001b[0;34m=\u001b[0m \u001b[0mcol1\u001b[0m\u001b[0;34m.\u001b[0m\u001b[0mreshape\u001b[0m\u001b[0;34m(\u001b[0m\u001b[0;36m2\u001b[0m\u001b[0;34m,\u001b[0m\u001b[0;36m2\u001b[0m\u001b[0;34m)\u001b[0m\u001b[0;34m\u001b[0m\u001b[0;34m\u001b[0m\u001b[0m\n\u001b[0;32m----> 3\u001b[0;31m \u001b[0mstack\u001b[0m \u001b[0;34m=\u001b[0m \u001b[0mnp\u001b[0m\u001b[0;34m.\u001b[0m\u001b[0mcolumn_stack\u001b[0m\u001b[0;34m(\u001b[0m\u001b[0;34m(\u001b[0m\u001b[0mcol5\u001b[0m\u001b[0;34m,\u001b[0m\u001b[0mcol1\u001b[0m\u001b[0;34m)\u001b[0m\u001b[0;34m)\u001b[0m\u001b[0;34m\u001b[0m\u001b[0;34m\u001b[0m\u001b[0m\n\u001b[0m",
      "\u001b[0;32m<__array_function__ internals>\u001b[0m in \u001b[0;36mcolumn_stack\u001b[0;34m(*args, **kwargs)\u001b[0m\n",
      "\u001b[0;32m/usr/local/lib/python3.6/dist-packages/numpy/lib/shape_base.py\u001b[0m in \u001b[0;36mcolumn_stack\u001b[0;34m(tup)\u001b[0m\n\u001b[1;32m    654\u001b[0m             \u001b[0marr\u001b[0m \u001b[0;34m=\u001b[0m \u001b[0marray\u001b[0m\u001b[0;34m(\u001b[0m\u001b[0marr\u001b[0m\u001b[0;34m,\u001b[0m \u001b[0mcopy\u001b[0m\u001b[0;34m=\u001b[0m\u001b[0;32mFalse\u001b[0m\u001b[0;34m,\u001b[0m \u001b[0msubok\u001b[0m\u001b[0;34m=\u001b[0m\u001b[0;32mTrue\u001b[0m\u001b[0;34m,\u001b[0m \u001b[0mndmin\u001b[0m\u001b[0;34m=\u001b[0m\u001b[0;36m2\u001b[0m\u001b[0;34m)\u001b[0m\u001b[0;34m.\u001b[0m\u001b[0mT\u001b[0m\u001b[0;34m\u001b[0m\u001b[0;34m\u001b[0m\u001b[0m\n\u001b[1;32m    655\u001b[0m         \u001b[0marrays\u001b[0m\u001b[0;34m.\u001b[0m\u001b[0mappend\u001b[0m\u001b[0;34m(\u001b[0m\u001b[0marr\u001b[0m\u001b[0;34m)\u001b[0m\u001b[0;34m\u001b[0m\u001b[0;34m\u001b[0m\u001b[0m\n\u001b[0;32m--> 656\u001b[0;31m     \u001b[0;32mreturn\u001b[0m \u001b[0m_nx\u001b[0m\u001b[0;34m.\u001b[0m\u001b[0mconcatenate\u001b[0m\u001b[0;34m(\u001b[0m\u001b[0marrays\u001b[0m\u001b[0;34m,\u001b[0m \u001b[0;36m1\u001b[0m\u001b[0;34m)\u001b[0m\u001b[0;34m\u001b[0m\u001b[0;34m\u001b[0m\u001b[0m\n\u001b[0m\u001b[1;32m    657\u001b[0m \u001b[0;34m\u001b[0m\u001b[0m\n\u001b[1;32m    658\u001b[0m \u001b[0;34m\u001b[0m\u001b[0m\n",
      "\u001b[0;32m<__array_function__ internals>\u001b[0m in \u001b[0;36mconcatenate\u001b[0;34m(*args, **kwargs)\u001b[0m\n",
      "\u001b[0;31mValueError\u001b[0m: all the input array dimensions for the concatenation axis must match exactly, but along dimension 0, the array at index 0 has size 2 and the array at index 1 has size 4"
     ]
    }
   ],
   "source": [
    "# Example 3 - breaking (to illustrate when it breaks)\n",
    "col5 = col1.reshape(2,2)\n",
    "stack = np.column_stack((col5,col1))"
   ]
  },
  {
   "cell_type": "markdown",
   "metadata": {
    "colab_type": "text",
    "id": "30Phm7JlTjvu"
   },
   "source": [
    "We cannot stack two array which has different dimensions, as our first array has dimension of 2X2 but second array has dimension of 1X4, or both have different axis.\n",
    "We can resolve this by reshaping them matching axis or equal dimensions."
   ]
  },
  {
   "cell_type": "code",
   "execution_count": null,
   "metadata": {
    "colab": {
     "base_uri": "https://localhost:8080/",
     "height": 90
    },
    "colab_type": "code",
    "executionInfo": {
     "elapsed": 3881,
     "status": "ok",
     "timestamp": 1600144162203,
     "user": {
      "displayName": "Ankush Kulashri",
      "photoUrl": "https://lh4.googleusercontent.com/-uDXuncaw9Q8/AAAAAAAAAAI/AAAAAAAABBQ/0i_XWV50jgY/s64/photo.jpg",
      "userId": "07363556836472681627"
     },
     "user_tz": -330
    },
    "id": "xKAWh10NTjvv",
    "outputId": "562c7110-0e64-494f-86c9-f1145859e333"
   },
   "outputs": [
    {
     "name": "stdout",
     "output_type": "stream",
     "text": [
      "[jovian] Detected Colab notebook...\u001b[0m\n",
      "[jovian] Uploading colab notebook to Jovian...\u001b[0m\n",
      "[jovian] Committed successfully! https://jovian.ml/ankush-kulashri/numpy-array-operations\u001b[0m\n"
     ]
    },
    {
     "data": {
      "application/vnd.google.colaboratory.intrinsic+json": {
       "type": "string"
      },
      "text/plain": [
       "'https://jovian.ml/ankush-kulashri/numpy-array-operations'"
      ]
     },
     "execution_count": 64,
     "metadata": {
      "tags": []
     },
     "output_type": "execute_result"
    }
   ],
   "source": [
    "jovian.commit(project='numpy-array-operations')"
   ]
  },
  {
   "cell_type": "markdown",
   "metadata": {
    "colab_type": "text",
    "id": "WBRKP_IETjvz"
   },
   "source": [
    "## Function 5 - numpy.concatenate\n",
    "\n",
    "This function combines or joins two or more array."
   ]
  },
  {
   "cell_type": "code",
   "execution_count": null,
   "metadata": {
    "colab": {
     "base_uri": "https://localhost:8080/",
     "height": 162
    },
    "colab_type": "code",
    "executionInfo": {
     "elapsed": 1068,
     "status": "ok",
     "timestamp": 1600148081882,
     "user": {
      "displayName": "Ankush Kulashri",
      "photoUrl": "https://lh4.googleusercontent.com/-uDXuncaw9Q8/AAAAAAAAAAI/AAAAAAAABBQ/0i_XWV50jgY/s64/photo.jpg",
      "userId": "07363556836472681627"
     },
     "user_tz": -330
    },
    "id": "US-AuRyaTjv0",
    "outputId": "ba4689e3-9cfa-4f04-a3e6-90c2455c90ed"
   },
   "outputs": [
    {
     "data": {
      "text/plain": [
       "array([[ 0,  1,  2,  3],\n",
       "       [ 4,  5,  6,  7],\n",
       "       [ 8,  9, 10, 11],\n",
       "       [12, 13, 14, 15],\n",
       "       [16, 17, 18, 19],\n",
       "       [20, 21, 22, 23],\n",
       "       [24, 25, 26, 27],\n",
       "       [28, 29, 30, 31]])"
      ]
     },
     "execution_count": 71,
     "metadata": {
      "tags": []
     },
     "output_type": "execute_result"
    }
   ],
   "source": [
    "# Example 1 - working\n",
    "a= np.arange(0,16).reshape(4,4)\n",
    "b= np.arange(16,32).reshape(4,4)\n",
    "con = np.concatenate((a,b))\n",
    "con"
   ]
  },
  {
   "cell_type": "markdown",
   "metadata": {
    "colab_type": "text",
    "id": "PNa-sc9zTjv3"
   },
   "source": [
    "Two 4X4 arrays are merged according to default axis=0, ie in vertical axis."
   ]
  },
  {
   "cell_type": "code",
   "execution_count": null,
   "metadata": {
    "colab": {
     "base_uri": "https://localhost:8080/",
     "height": 90
    },
    "colab_type": "code",
    "executionInfo": {
     "elapsed": 1047,
     "status": "ok",
     "timestamp": 1600148186919,
     "user": {
      "displayName": "Ankush Kulashri",
      "photoUrl": "https://lh4.googleusercontent.com/-uDXuncaw9Q8/AAAAAAAAAAI/AAAAAAAABBQ/0i_XWV50jgY/s64/photo.jpg",
      "userId": "07363556836472681627"
     },
     "user_tz": -330
    },
    "id": "KTbx6PbPTjv4",
    "outputId": "d5933fd4-133d-4ffb-f9b9-79d95ac09fe0"
   },
   "outputs": [
    {
     "data": {
      "text/plain": [
       "array([[ 0,  1,  2,  3, 16, 17, 18, 19],\n",
       "       [ 4,  5,  6,  7, 20, 21, 22, 23],\n",
       "       [ 8,  9, 10, 11, 24, 25, 26, 27],\n",
       "       [12, 13, 14, 15, 28, 29, 30, 31]])"
      ]
     },
     "execution_count": 74,
     "metadata": {
      "tags": []
     },
     "output_type": "execute_result"
    }
   ],
   "source": [
    "# Example 2 - working\n",
    "con_1 = np.concatenate((a,b),axis=1)\n",
    "con_1"
   ]
  },
  {
   "cell_type": "markdown",
   "metadata": {
    "colab_type": "text",
    "id": "aR2Iqix3Tjv7"
   },
   "source": [
    "Two 4X4 arrays are merged accoding to axis=1, in this case horizontal axis \n"
   ]
  },
  {
   "cell_type": "code",
   "execution_count": null,
   "metadata": {
    "colab": {
     "base_uri": "https://localhost:8080/",
     "height": 225
    },
    "colab_type": "code",
    "executionInfo": {
     "elapsed": 2784,
     "status": "error",
     "timestamp": 1600148292410,
     "user": {
      "displayName": "Ankush Kulashri",
      "photoUrl": "https://lh4.googleusercontent.com/-uDXuncaw9Q8/AAAAAAAAAAI/AAAAAAAABBQ/0i_XWV50jgY/s64/photo.jpg",
      "userId": "07363556836472681627"
     },
     "user_tz": -330
    },
    "id": "pI5mA1OhTjv7",
    "outputId": "18b0ada3-e77c-4b5b-e542-cd2959c4d384"
   },
   "outputs": [
    {
     "ename": "AxisError",
     "evalue": "ignored",
     "output_type": "error",
     "traceback": [
      "\u001b[0;31m---------------------------------------------------------------------------\u001b[0m",
      "\u001b[0;31mAxisError\u001b[0m                                 Traceback (most recent call last)",
      "\u001b[0;32m<ipython-input-75-175dc8e93b7a>\u001b[0m in \u001b[0;36m<module>\u001b[0;34m()\u001b[0m\n\u001b[1;32m      1\u001b[0m \u001b[0;31m# Example 3 - breaking (to illustrate when it breaks)\u001b[0m\u001b[0;34m\u001b[0m\u001b[0;34m\u001b[0m\u001b[0;34m\u001b[0m\u001b[0m\n\u001b[0;32m----> 2\u001b[0;31m \u001b[0mcon_2\u001b[0m \u001b[0;34m=\u001b[0m \u001b[0mnp\u001b[0m\u001b[0;34m.\u001b[0m\u001b[0mconcatenate\u001b[0m\u001b[0;34m(\u001b[0m\u001b[0;34m(\u001b[0m\u001b[0ma\u001b[0m\u001b[0;34m,\u001b[0m\u001b[0mb\u001b[0m\u001b[0;34m)\u001b[0m\u001b[0;34m,\u001b[0m\u001b[0;36m2\u001b[0m\u001b[0;34m)\u001b[0m\u001b[0;34m\u001b[0m\u001b[0;34m\u001b[0m\u001b[0m\n\u001b[0m",
      "\u001b[0;32m<__array_function__ internals>\u001b[0m in \u001b[0;36mconcatenate\u001b[0;34m(*args, **kwargs)\u001b[0m\n",
      "\u001b[0;31mAxisError\u001b[0m: axis 2 is out of bounds for array of dimension 2"
     ]
    }
   ],
   "source": [
    "# Example 3 - breaking (to illustrate when it breaks)\n",
    "con_2 = np.concatenate((a,b),axis=2)"
   ]
  },
  {
   "cell_type": "markdown",
   "metadata": {
    "colab_type": "text",
    "id": "i0ocDKswTjwB"
   },
   "source": [
    "Here axis=2, does not exist in any or both the arrays, so our program has broken.\n",
    "We need to correctly define the axis present in them.\n",
    "\n",
    "\n",
    "\n"
   ]
  },
  {
   "cell_type": "code",
   "execution_count": 79,
   "metadata": {
    "colab": {
     "base_uri": "https://localhost:8080/",
     "height": 90
    },
    "colab_type": "code",
    "executionInfo": {
     "elapsed": 3875,
     "status": "ok",
     "timestamp": 1600149046204,
     "user": {
      "displayName": "Ankush Kulashri",
      "photoUrl": "https://lh4.googleusercontent.com/-uDXuncaw9Q8/AAAAAAAAAAI/AAAAAAAABBQ/0i_XWV50jgY/s64/photo.jpg",
      "userId": "07363556836472681627"
     },
     "user_tz": -330
    },
    "id": "j3QRGa1oTjwD",
    "outputId": "d80acff3-b566-4c2a-ce3c-25e3e599eda7"
   },
   "outputs": [
    {
     "name": "stdout",
     "output_type": "stream",
     "text": [
      "[jovian] Detected Colab notebook...\u001b[0m\n",
      "[jovian] Uploading colab notebook to Jovian...\u001b[0m\n",
      "[jovian] Committed successfully! https://jovian.ml/ankush-kulashri/numpy-array-operations\u001b[0m\n"
     ]
    },
    {
     "data": {
      "application/vnd.google.colaboratory.intrinsic+json": {
       "type": "string"
      },
      "text/plain": [
       "'https://jovian.ml/ankush-kulashri/numpy-array-operations'"
      ]
     },
     "execution_count": 79,
     "metadata": {
      "tags": []
     },
     "output_type": "execute_result"
    }
   ],
   "source": [
    "jovian.commit(project='numpy-array-operations')"
   ]
  },
  {
   "cell_type": "markdown",
   "metadata": {
    "colab_type": "text",
    "id": "txg45O9qTjwG"
   },
   "source": [
    "## Conclusion\n",
    "\n",
    "This notebook has some useful array creation and manipulation functions, these forms basis while dealing with data strutured in array format."
   ]
  },
  {
   "cell_type": "markdown",
   "metadata": {
    "colab_type": "text",
    "id": "cnWX8T4UTjwH"
   },
   "source": [
    "## Reference Links\n",
    "Provide links to your references and other interesting articles about Numpy arrays:\n",
    "* Numpy official tutorial : https://numpy.org/doc/stable/user/quickstart.html\n",
    "* W3Schools.com : [https://www.w3schools.com/python/numpy_intro.asp](https://www.w3schools.com/python/numpy_intro.asp)\n"
   ]
  },
  {
   "cell_type": "code",
   "execution_count": 4,
   "metadata": {
    "colab": {
     "base_uri": "https://localhost:8080/",
     "height": 90
    },
    "colab_type": "code",
    "executionInfo": {
     "elapsed": 3459,
     "status": "ok",
     "timestamp": 1600149038116,
     "user": {
      "displayName": "Ankush Kulashri",
      "photoUrl": "https://lh4.googleusercontent.com/-uDXuncaw9Q8/AAAAAAAAAAI/AAAAAAAABBQ/0i_XWV50jgY/s64/photo.jpg",
      "userId": "07363556836472681627"
     },
     "user_tz": -330
    },
    "id": "ETMuDmpdTjwI",
    "outputId": "de0a1439-19e1-4ca7-951b-86cb85588a80"
   },
   "outputs": [
    {
     "data": {
      "application/javascript": [
       "window.require && require([\"base/js/namespace\"],function(Jupyter){Jupyter.notebook.save_checkpoint()})"
      ],
      "text/plain": [
       "<IPython.core.display.Javascript object>"
      ]
     },
     "metadata": {},
     "output_type": "display_data"
    },
    {
     "name": "stdout",
     "output_type": "stream",
     "text": [
      "[jovian] Attempting to save notebook..\u001b[0m\n",
      "[jovian] Updating notebook \"ankush-kulashri/numpy-array-operations\" on https://jovian.ml/\u001b[0m\n",
      "[jovian] Uploading notebook..\u001b[0m\n",
      "[jovian] Capturing environment..\u001b[0m\n",
      "[jovian] Committed successfully! https://jovian.ml/ankush-kulashri/numpy-array-operations\u001b[0m\n"
     ]
    },
    {
     "data": {
      "text/plain": [
       "'https://jovian.ml/ankush-kulashri/numpy-array-operations'"
      ]
     },
     "execution_count": 4,
     "metadata": {},
     "output_type": "execute_result"
    }
   ],
   "source": [
    "jovian.commit(project='numpy-array-operations')"
   ]
  }
 ],
 "metadata": {
  "colab": {
   "collapsed_sections": [],
   "name": "numpy-array-operations.ipynb",
   "provenance": []
  },
  "kernelspec": {
   "display_name": "Python 3",
   "language": "python",
   "name": "python3"
  },
  "language_info": {
   "codemirror_mode": {
    "name": "ipython",
    "version": 3
   },
   "file_extension": ".py",
   "mimetype": "text/x-python",
   "name": "python",
   "nbconvert_exporter": "python",
   "pygments_lexer": "ipython3",
   "version": "3.7.8"
  }
 },
 "nbformat": 4,
 "nbformat_minor": 1
}
